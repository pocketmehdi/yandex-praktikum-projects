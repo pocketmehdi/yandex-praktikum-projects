{
 "cells": [
  {
   "cell_type": "markdown",
   "metadata": {},
   "source": [
    "<font color=blue> Привет еще раз. Спасибо, что доделал работу. Теперь мои комментарии выделены синим.\n",
    "    \n",
    "---"
   ]
  },
  {
   "cell_type": "markdown",
   "metadata": {},
   "source": [
    "---\n",
    "## Комментарий от наставника\n",
    "\n",
    "Привет! Спасибо, что сдал задание:) В целом, работа производит положительное впечатление, однако обрати внимание на некоторые мои комментарии. Они обозначены пометкой *Комментарий от наставника*. Пострайся учесть эти комментарии в ходе дальнейшей работы.\n",
    "\n",
    "---"
   ]
  },
  {
   "cell_type": "markdown",
   "metadata": {},
   "source": [
    "## Исследование надёжности заёмщиков\n",
    "\n"
   ]
  },
  {
   "cell_type": "markdown",
   "metadata": {},
   "source": [
    "Заказчик — кредитный отдел банка. Нужно разобраться, влияет ли семейное положение и количество детей клиента на факт погашения кредита в срок. Входные данные от банка — статистика о платёжеспособности клиентов.\n",
    "\n",
    "Результаты исследования будут учтены при построении модели **кредитного скоринга** — специальной системы, которая оценивает способность потенциального заёмщика вернуть кредит банку."
   ]
  },
  {
   "cell_type": "markdown",
   "metadata": {},
   "source": [
    "### План исследования\n",
    "**1. Предобработка данных:**    \n",
    "    - Определить и заполните пропущенные значения\n",
    "    - Сделать замену типа данных, если потребуется\n",
    "**2. Удаление дубликатов**  \n",
    "**3. Категоризация данных**  \n",
    "**4. Ответить на вопросы:**  \n",
    "    - Есть ли зависимость между наличием детей и возвратом кредита в срок?  \n",
    "    - Есть ли зависимость между семейным положением и возвратом кредита в срок?  \n",
    "    - Есть ли зависимость между уровнем дохода и возвратом кредита в срок?  \n",
    "    - Как разные цели кредита влияют на его возврат в срок?  "
   ]
  },
  {
   "cell_type": "markdown",
   "metadata": {},
   "source": [
    "### Описание данных:  \n",
    "- children — количество детей в семье  \n",
    "- days_employed — общий трудовой стаж в днях  \n",
    "- dob_years — возраст клиента в годах  \n",
    "- education — уровень образования клиента  \n",
    "- education_id — идентификатор уровня образования  \n",
    "- family_status — семейное положение  \n",
    "- family_status_id — идентификатор семейного положения  \n",
    "- gender — пол клиента  \n",
    "- income_type — тип занятости  \n",
    "- debt — имел ли задолженность по возврату кредитов  \n",
    "- total_income — ежемесячный доход  \n",
    "- purpose — цель получения кредита  "
   ]
  },
  {
   "cell_type": "markdown",
   "metadata": {},
   "source": [
    "---\n",
    "## Комментарий от наставника\n",
    "\n",
    "\n",
    "Правильно, что есть краткое вступление в работу, описание того, что надо делать. В работе необходимо приводить краткий план того, что надо сделать(если этот план имеется), а также информацию о входных данных: какие столбцы есть в таблице, их названия и какую информацию они несут (см. пример). Также название работы лучше отображать в отдельной ячейке и делать крупный шрифт (заголовок). Так работа выглядит презентабельно.\n",
    "\n",
    "<font color=red> Пример: </font>\n",
    "---\n",
    "Описание данных: \n",
    "- children — количество детей в семье\n",
    "- days_employed — общий трудовой стаж в днях\n",
    "- dob_years — возраст клиента в годах\n",
    "- ...\n",
    "    \n",
    "---"
   ]
  },
  {
   "cell_type": "markdown",
   "metadata": {},
   "source": [
    "### Шаг 1. Откройте файл с данными и изучите общую информацию. "
   ]
  },
  {
   "cell_type": "code",
   "execution_count": 2,
   "metadata": {},
   "outputs": [],
   "source": [
    "import pandas as pd"
   ]
  },
  {
   "cell_type": "code",
   "execution_count": 7,
   "metadata": {},
   "outputs": [
    {
     "name": "stdout",
     "output_type": "stream",
     "text": [
      "<class 'pandas.core.frame.DataFrame'>\n",
      "RangeIndex: 21525 entries, 0 to 21524\n",
      "Data columns (total 12 columns):\n",
      "children            21525 non-null int64\n",
      "days_employed       19351 non-null float64\n",
      "dob_years           21525 non-null int64\n",
      "education           21525 non-null object\n",
      "education_id        21525 non-null int64\n",
      "family_status       21525 non-null object\n",
      "family_status_id    21525 non-null int64\n",
      "gender              21525 non-null object\n",
      "income_type         21525 non-null object\n",
      "debt                21525 non-null int64\n",
      "total_income        19351 non-null float64\n",
      "purpose             21525 non-null object\n",
      "dtypes: float64(2), int64(5), object(5)\n",
      "memory usage: 2.0+ MB\n"
     ]
    },
    {
     "data": {
      "text/html": [
       "<div>\n",
       "<style scoped>\n",
       "    .dataframe tbody tr th:only-of-type {\n",
       "        vertical-align: middle;\n",
       "    }\n",
       "\n",
       "    .dataframe tbody tr th {\n",
       "        vertical-align: top;\n",
       "    }\n",
       "\n",
       "    .dataframe thead th {\n",
       "        text-align: right;\n",
       "    }\n",
       "</style>\n",
       "<table border=\"1\" class=\"dataframe\">\n",
       "  <thead>\n",
       "    <tr style=\"text-align: right;\">\n",
       "      <th></th>\n",
       "      <th>children</th>\n",
       "      <th>days_employed</th>\n",
       "      <th>dob_years</th>\n",
       "      <th>education</th>\n",
       "      <th>education_id</th>\n",
       "      <th>family_status</th>\n",
       "      <th>family_status_id</th>\n",
       "      <th>gender</th>\n",
       "      <th>income_type</th>\n",
       "      <th>debt</th>\n",
       "      <th>total_income</th>\n",
       "      <th>purpose</th>\n",
       "    </tr>\n",
       "  </thead>\n",
       "  <tbody>\n",
       "    <tr>\n",
       "      <td>0</td>\n",
       "      <td>1</td>\n",
       "      <td>-8437.673028</td>\n",
       "      <td>42</td>\n",
       "      <td>высшее</td>\n",
       "      <td>0</td>\n",
       "      <td>женат / замужем</td>\n",
       "      <td>0</td>\n",
       "      <td>F</td>\n",
       "      <td>сотрудник</td>\n",
       "      <td>0</td>\n",
       "      <td>253875.639453</td>\n",
       "      <td>покупка жилья</td>\n",
       "    </tr>\n",
       "    <tr>\n",
       "      <td>1</td>\n",
       "      <td>1</td>\n",
       "      <td>-4024.803754</td>\n",
       "      <td>36</td>\n",
       "      <td>среднее</td>\n",
       "      <td>1</td>\n",
       "      <td>женат / замужем</td>\n",
       "      <td>0</td>\n",
       "      <td>F</td>\n",
       "      <td>сотрудник</td>\n",
       "      <td>0</td>\n",
       "      <td>112080.014102</td>\n",
       "      <td>приобретение автомобиля</td>\n",
       "    </tr>\n",
       "    <tr>\n",
       "      <td>2</td>\n",
       "      <td>0</td>\n",
       "      <td>-5623.422610</td>\n",
       "      <td>33</td>\n",
       "      <td>Среднее</td>\n",
       "      <td>1</td>\n",
       "      <td>женат / замужем</td>\n",
       "      <td>0</td>\n",
       "      <td>M</td>\n",
       "      <td>сотрудник</td>\n",
       "      <td>0</td>\n",
       "      <td>145885.952297</td>\n",
       "      <td>покупка жилья</td>\n",
       "    </tr>\n",
       "    <tr>\n",
       "      <td>3</td>\n",
       "      <td>3</td>\n",
       "      <td>-4124.747207</td>\n",
       "      <td>32</td>\n",
       "      <td>среднее</td>\n",
       "      <td>1</td>\n",
       "      <td>женат / замужем</td>\n",
       "      <td>0</td>\n",
       "      <td>M</td>\n",
       "      <td>сотрудник</td>\n",
       "      <td>0</td>\n",
       "      <td>267628.550329</td>\n",
       "      <td>дополнительное образование</td>\n",
       "    </tr>\n",
       "    <tr>\n",
       "      <td>4</td>\n",
       "      <td>0</td>\n",
       "      <td>340266.072047</td>\n",
       "      <td>53</td>\n",
       "      <td>среднее</td>\n",
       "      <td>1</td>\n",
       "      <td>гражданский брак</td>\n",
       "      <td>1</td>\n",
       "      <td>F</td>\n",
       "      <td>пенсионер</td>\n",
       "      <td>0</td>\n",
       "      <td>158616.077870</td>\n",
       "      <td>сыграть свадьбу</td>\n",
       "    </tr>\n",
       "    <tr>\n",
       "      <td>5</td>\n",
       "      <td>0</td>\n",
       "      <td>-926.185831</td>\n",
       "      <td>27</td>\n",
       "      <td>высшее</td>\n",
       "      <td>0</td>\n",
       "      <td>гражданский брак</td>\n",
       "      <td>1</td>\n",
       "      <td>M</td>\n",
       "      <td>компаньон</td>\n",
       "      <td>0</td>\n",
       "      <td>255763.565419</td>\n",
       "      <td>покупка жилья</td>\n",
       "    </tr>\n",
       "    <tr>\n",
       "      <td>6</td>\n",
       "      <td>0</td>\n",
       "      <td>-2879.202052</td>\n",
       "      <td>43</td>\n",
       "      <td>высшее</td>\n",
       "      <td>0</td>\n",
       "      <td>женат / замужем</td>\n",
       "      <td>0</td>\n",
       "      <td>F</td>\n",
       "      <td>компаньон</td>\n",
       "      <td>0</td>\n",
       "      <td>240525.971920</td>\n",
       "      <td>операции с жильем</td>\n",
       "    </tr>\n",
       "    <tr>\n",
       "      <td>7</td>\n",
       "      <td>0</td>\n",
       "      <td>-152.779569</td>\n",
       "      <td>50</td>\n",
       "      <td>СРЕДНЕЕ</td>\n",
       "      <td>1</td>\n",
       "      <td>женат / замужем</td>\n",
       "      <td>0</td>\n",
       "      <td>M</td>\n",
       "      <td>сотрудник</td>\n",
       "      <td>0</td>\n",
       "      <td>135823.934197</td>\n",
       "      <td>образование</td>\n",
       "    </tr>\n",
       "    <tr>\n",
       "      <td>8</td>\n",
       "      <td>2</td>\n",
       "      <td>-6929.865299</td>\n",
       "      <td>35</td>\n",
       "      <td>ВЫСШЕЕ</td>\n",
       "      <td>0</td>\n",
       "      <td>гражданский брак</td>\n",
       "      <td>1</td>\n",
       "      <td>F</td>\n",
       "      <td>сотрудник</td>\n",
       "      <td>0</td>\n",
       "      <td>95856.832424</td>\n",
       "      <td>на проведение свадьбы</td>\n",
       "    </tr>\n",
       "    <tr>\n",
       "      <td>9</td>\n",
       "      <td>0</td>\n",
       "      <td>-2188.756445</td>\n",
       "      <td>41</td>\n",
       "      <td>среднее</td>\n",
       "      <td>1</td>\n",
       "      <td>женат / замужем</td>\n",
       "      <td>0</td>\n",
       "      <td>M</td>\n",
       "      <td>сотрудник</td>\n",
       "      <td>0</td>\n",
       "      <td>144425.938277</td>\n",
       "      <td>покупка жилья для семьи</td>\n",
       "    </tr>\n",
       "    <tr>\n",
       "      <td>10</td>\n",
       "      <td>2</td>\n",
       "      <td>-4171.483647</td>\n",
       "      <td>36</td>\n",
       "      <td>высшее</td>\n",
       "      <td>0</td>\n",
       "      <td>женат / замужем</td>\n",
       "      <td>0</td>\n",
       "      <td>M</td>\n",
       "      <td>компаньон</td>\n",
       "      <td>0</td>\n",
       "      <td>113943.491460</td>\n",
       "      <td>покупка недвижимости</td>\n",
       "    </tr>\n",
       "    <tr>\n",
       "      <td>11</td>\n",
       "      <td>0</td>\n",
       "      <td>-792.701887</td>\n",
       "      <td>40</td>\n",
       "      <td>среднее</td>\n",
       "      <td>1</td>\n",
       "      <td>женат / замужем</td>\n",
       "      <td>0</td>\n",
       "      <td>F</td>\n",
       "      <td>сотрудник</td>\n",
       "      <td>0</td>\n",
       "      <td>77069.234271</td>\n",
       "      <td>покупка коммерческой недвижимости</td>\n",
       "    </tr>\n",
       "    <tr>\n",
       "      <td>12</td>\n",
       "      <td>0</td>\n",
       "      <td>NaN</td>\n",
       "      <td>65</td>\n",
       "      <td>среднее</td>\n",
       "      <td>1</td>\n",
       "      <td>гражданский брак</td>\n",
       "      <td>1</td>\n",
       "      <td>M</td>\n",
       "      <td>пенсионер</td>\n",
       "      <td>0</td>\n",
       "      <td>NaN</td>\n",
       "      <td>сыграть свадьбу</td>\n",
       "    </tr>\n",
       "    <tr>\n",
       "      <td>13</td>\n",
       "      <td>0</td>\n",
       "      <td>-1846.641941</td>\n",
       "      <td>54</td>\n",
       "      <td>неоконченное высшее</td>\n",
       "      <td>2</td>\n",
       "      <td>женат / замужем</td>\n",
       "      <td>0</td>\n",
       "      <td>F</td>\n",
       "      <td>сотрудник</td>\n",
       "      <td>0</td>\n",
       "      <td>130458.228857</td>\n",
       "      <td>приобретение автомобиля</td>\n",
       "    </tr>\n",
       "    <tr>\n",
       "      <td>14</td>\n",
       "      <td>0</td>\n",
       "      <td>-1844.956182</td>\n",
       "      <td>56</td>\n",
       "      <td>высшее</td>\n",
       "      <td>0</td>\n",
       "      <td>гражданский брак</td>\n",
       "      <td>1</td>\n",
       "      <td>F</td>\n",
       "      <td>компаньон</td>\n",
       "      <td>1</td>\n",
       "      <td>165127.911772</td>\n",
       "      <td>покупка жилой недвижимости</td>\n",
       "    </tr>\n",
       "  </tbody>\n",
       "</table>\n",
       "</div>"
      ],
      "text/plain": [
       "    children  days_employed  dob_years            education  education_id  \\\n",
       "0          1   -8437.673028         42               высшее             0   \n",
       "1          1   -4024.803754         36              среднее             1   \n",
       "2          0   -5623.422610         33              Среднее             1   \n",
       "3          3   -4124.747207         32              среднее             1   \n",
       "4          0  340266.072047         53              среднее             1   \n",
       "5          0    -926.185831         27               высшее             0   \n",
       "6          0   -2879.202052         43               высшее             0   \n",
       "7          0    -152.779569         50              СРЕДНЕЕ             1   \n",
       "8          2   -6929.865299         35               ВЫСШЕЕ             0   \n",
       "9          0   -2188.756445         41              среднее             1   \n",
       "10         2   -4171.483647         36               высшее             0   \n",
       "11         0    -792.701887         40              среднее             1   \n",
       "12         0            NaN         65              среднее             1   \n",
       "13         0   -1846.641941         54  неоконченное высшее             2   \n",
       "14         0   -1844.956182         56               высшее             0   \n",
       "\n",
       "       family_status  family_status_id gender income_type  debt  \\\n",
       "0    женат / замужем                 0      F   сотрудник     0   \n",
       "1    женат / замужем                 0      F   сотрудник     0   \n",
       "2    женат / замужем                 0      M   сотрудник     0   \n",
       "3    женат / замужем                 0      M   сотрудник     0   \n",
       "4   гражданский брак                 1      F   пенсионер     0   \n",
       "5   гражданский брак                 1      M   компаньон     0   \n",
       "6    женат / замужем                 0      F   компаньон     0   \n",
       "7    женат / замужем                 0      M   сотрудник     0   \n",
       "8   гражданский брак                 1      F   сотрудник     0   \n",
       "9    женат / замужем                 0      M   сотрудник     0   \n",
       "10   женат / замужем                 0      M   компаньон     0   \n",
       "11   женат / замужем                 0      F   сотрудник     0   \n",
       "12  гражданский брак                 1      M   пенсионер     0   \n",
       "13   женат / замужем                 0      F   сотрудник     0   \n",
       "14  гражданский брак                 1      F   компаньон     1   \n",
       "\n",
       "     total_income                            purpose  \n",
       "0   253875.639453                      покупка жилья  \n",
       "1   112080.014102            приобретение автомобиля  \n",
       "2   145885.952297                      покупка жилья  \n",
       "3   267628.550329         дополнительное образование  \n",
       "4   158616.077870                    сыграть свадьбу  \n",
       "5   255763.565419                      покупка жилья  \n",
       "6   240525.971920                  операции с жильем  \n",
       "7   135823.934197                        образование  \n",
       "8    95856.832424              на проведение свадьбы  \n",
       "9   144425.938277            покупка жилья для семьи  \n",
       "10  113943.491460               покупка недвижимости  \n",
       "11   77069.234271  покупка коммерческой недвижимости  \n",
       "12            NaN                    сыграть свадьбу  \n",
       "13  130458.228857            приобретение автомобиля  \n",
       "14  165127.911772         покупка жилой недвижимости  "
      ]
     },
     "execution_count": 7,
     "metadata": {},
     "output_type": "execute_result"
    }
   ],
   "source": [
    "client_debts = pd.read_csv('/datasets/data.csv')\n",
    "client_debts.to_csv('lala.csv')\n",
    "client_debts.info()\n",
    "client_debts.head(15)"
   ]
  },
  {
   "cell_type": "markdown",
   "metadata": {},
   "source": [
    "### Вывод\n",
    "\n"
   ]
  },
  {
   "cell_type": "markdown",
   "metadata": {},
   "source": [
    "На первый взгляд данные в таблице представленны с соответствующими типами. \n",
    "\n",
    "Есть пропуски в колонках 'days_employed' и 'total_income', причем количество пропущенных строк у них одинаково, возможно, данные там отсутствует в одних и тех же строчках. Вероятно была утеряна информация о трудовой деятельности некоторой части клиентов. Пропущенные данные составляют около 10% (1 - 19351/21525). Колонка 'total_income' (ежемесячный доход) понадобится нам в дальнейшем для исследования, этими записям не получится пренебречь. Для их заполнения нужно будет подобрать типичные значения для разных групп занятости.\n",
    "\n",
    "Уже по первым строчкам таблицы видно, что в колонке 'стаж в днях' ('days_emploed') присутствуют отрицательные значения. В целом похоже, что для этих данных отрицательный знак поставлен случайно, их можно использовать в дальнейшем и перевести в года.  \n",
    "Кроме того, записи в столбцах 'days_emploed', 'total_income' представлены в формате с плавающей точкой, -- нужно будет представить их в более удобном для арифметических операций формате.  \n",
    "\n",
    "В колонке 'education' есть дубликаты, возможно отсутсвовал единый формат записи информации об образовании.\n",
    "\n",
    "\n",
    " \n"
   ]
  },
  {
   "cell_type": "markdown",
   "metadata": {},
   "source": [
    "---\n",
    "## Комментарий от наставника\n",
    "\n",
    "Хорошо бы выводить больше 10 строчек таблицы. Меньше не рекомендуется, можно не увидеть структуру данных. У меня есть несколько комментариев:\n",
    "\n",
    "- желательно давать переменным осознанные имена. Таблица про клиентов - название следовало выбрать соответствующее;\n",
    "- импорт библиотек и считывание данных лучше проводить в разных ячейках;\n",
    "- выводы грамотные. Помимо результатов желательно высказывать и гипотезы о том, как исправить неточности или ошибки в данных. \n",
    "\n",
    "Подумай также о возможных причинах появления ошибок в данных, а также о том, являются ли они случайными или нет. Все свои соображения о выявленных закономерностях необходимо писать.\n",
    "\n",
    "---"
   ]
  },
  {
   "cell_type": "markdown",
   "metadata": {},
   "source": [
    "### Шаг 2. Предобработка данных"
   ]
  },
  {
   "cell_type": "markdown",
   "metadata": {},
   "source": [
    "### Обработка пропусков"
   ]
  },
  {
   "cell_type": "markdown",
   "metadata": {},
   "source": [
    "Есть одинаковое количество пропущенных строк в колонках 'days_employed' и 'total_income'. Хочется посмотреть, в одинаковых ли строчках, и визуально оценить, какие там данные."
   ]
  },
  {
   "cell_type": "code",
   "execution_count": 3,
   "metadata": {},
   "outputs": [
    {
     "data": {
      "text/plain": [
       "children            2174\n",
       "days_employed          0\n",
       "dob_years           2174\n",
       "education           2174\n",
       "education_id        2174\n",
       "family_status       2174\n",
       "family_status_id    2174\n",
       "gender              2174\n",
       "income_type         2174\n",
       "debt                2174\n",
       "total_income           0\n",
       "purpose             2174\n",
       "dtype: int64"
      ]
     },
     "execution_count": 3,
     "metadata": {},
     "output_type": "execute_result"
    }
   ],
   "source": [
    "client_debts[client_debts['total_income'].isnull()].count()"
   ]
  },
  {
   "cell_type": "code",
   "execution_count": 4,
   "metadata": {},
   "outputs": [
    {
     "data": {
      "text/html": [
       "<div>\n",
       "<style scoped>\n",
       "    .dataframe tbody tr th:only-of-type {\n",
       "        vertical-align: middle;\n",
       "    }\n",
       "\n",
       "    .dataframe tbody tr th {\n",
       "        vertical-align: top;\n",
       "    }\n",
       "\n",
       "    .dataframe thead th {\n",
       "        text-align: right;\n",
       "    }\n",
       "</style>\n",
       "<table border=\"1\" class=\"dataframe\">\n",
       "  <thead>\n",
       "    <tr style=\"text-align: right;\">\n",
       "      <th></th>\n",
       "      <th>children</th>\n",
       "      <th>days_employed</th>\n",
       "      <th>dob_years</th>\n",
       "      <th>education</th>\n",
       "      <th>education_id</th>\n",
       "      <th>family_status</th>\n",
       "      <th>family_status_id</th>\n",
       "      <th>gender</th>\n",
       "      <th>income_type</th>\n",
       "      <th>debt</th>\n",
       "      <th>total_income</th>\n",
       "      <th>purpose</th>\n",
       "    </tr>\n",
       "  </thead>\n",
       "  <tbody>\n",
       "    <tr>\n",
       "      <td>12</td>\n",
       "      <td>0</td>\n",
       "      <td>NaN</td>\n",
       "      <td>65</td>\n",
       "      <td>среднее</td>\n",
       "      <td>1</td>\n",
       "      <td>гражданский брак</td>\n",
       "      <td>1</td>\n",
       "      <td>M</td>\n",
       "      <td>пенсионер</td>\n",
       "      <td>0</td>\n",
       "      <td>NaN</td>\n",
       "      <td>сыграть свадьбу</td>\n",
       "    </tr>\n",
       "    <tr>\n",
       "      <td>26</td>\n",
       "      <td>0</td>\n",
       "      <td>NaN</td>\n",
       "      <td>41</td>\n",
       "      <td>среднее</td>\n",
       "      <td>1</td>\n",
       "      <td>женат / замужем</td>\n",
       "      <td>0</td>\n",
       "      <td>M</td>\n",
       "      <td>госслужащий</td>\n",
       "      <td>0</td>\n",
       "      <td>NaN</td>\n",
       "      <td>образование</td>\n",
       "    </tr>\n",
       "    <tr>\n",
       "      <td>29</td>\n",
       "      <td>0</td>\n",
       "      <td>NaN</td>\n",
       "      <td>63</td>\n",
       "      <td>среднее</td>\n",
       "      <td>1</td>\n",
       "      <td>Не женат / не замужем</td>\n",
       "      <td>4</td>\n",
       "      <td>F</td>\n",
       "      <td>пенсионер</td>\n",
       "      <td>0</td>\n",
       "      <td>NaN</td>\n",
       "      <td>строительство жилой недвижимости</td>\n",
       "    </tr>\n",
       "    <tr>\n",
       "      <td>41</td>\n",
       "      <td>0</td>\n",
       "      <td>NaN</td>\n",
       "      <td>50</td>\n",
       "      <td>среднее</td>\n",
       "      <td>1</td>\n",
       "      <td>женат / замужем</td>\n",
       "      <td>0</td>\n",
       "      <td>F</td>\n",
       "      <td>госслужащий</td>\n",
       "      <td>0</td>\n",
       "      <td>NaN</td>\n",
       "      <td>сделка с подержанным автомобилем</td>\n",
       "    </tr>\n",
       "    <tr>\n",
       "      <td>55</td>\n",
       "      <td>0</td>\n",
       "      <td>NaN</td>\n",
       "      <td>54</td>\n",
       "      <td>среднее</td>\n",
       "      <td>1</td>\n",
       "      <td>гражданский брак</td>\n",
       "      <td>1</td>\n",
       "      <td>F</td>\n",
       "      <td>пенсионер</td>\n",
       "      <td>1</td>\n",
       "      <td>NaN</td>\n",
       "      <td>сыграть свадьбу</td>\n",
       "    </tr>\n",
       "    <tr>\n",
       "      <td>65</td>\n",
       "      <td>0</td>\n",
       "      <td>NaN</td>\n",
       "      <td>21</td>\n",
       "      <td>среднее</td>\n",
       "      <td>1</td>\n",
       "      <td>Не женат / не замужем</td>\n",
       "      <td>4</td>\n",
       "      <td>M</td>\n",
       "      <td>компаньон</td>\n",
       "      <td>0</td>\n",
       "      <td>NaN</td>\n",
       "      <td>операции с коммерческой недвижимостью</td>\n",
       "    </tr>\n",
       "    <tr>\n",
       "      <td>67</td>\n",
       "      <td>0</td>\n",
       "      <td>NaN</td>\n",
       "      <td>52</td>\n",
       "      <td>высшее</td>\n",
       "      <td>0</td>\n",
       "      <td>женат / замужем</td>\n",
       "      <td>0</td>\n",
       "      <td>F</td>\n",
       "      <td>пенсионер</td>\n",
       "      <td>0</td>\n",
       "      <td>NaN</td>\n",
       "      <td>покупка жилья для семьи</td>\n",
       "    </tr>\n",
       "    <tr>\n",
       "      <td>72</td>\n",
       "      <td>1</td>\n",
       "      <td>NaN</td>\n",
       "      <td>32</td>\n",
       "      <td>высшее</td>\n",
       "      <td>0</td>\n",
       "      <td>женат / замужем</td>\n",
       "      <td>0</td>\n",
       "      <td>M</td>\n",
       "      <td>госслужащий</td>\n",
       "      <td>0</td>\n",
       "      <td>NaN</td>\n",
       "      <td>операции с коммерческой недвижимостью</td>\n",
       "    </tr>\n",
       "    <tr>\n",
       "      <td>82</td>\n",
       "      <td>2</td>\n",
       "      <td>NaN</td>\n",
       "      <td>50</td>\n",
       "      <td>высшее</td>\n",
       "      <td>0</td>\n",
       "      <td>женат / замужем</td>\n",
       "      <td>0</td>\n",
       "      <td>F</td>\n",
       "      <td>сотрудник</td>\n",
       "      <td>0</td>\n",
       "      <td>NaN</td>\n",
       "      <td>жилье</td>\n",
       "    </tr>\n",
       "    <tr>\n",
       "      <td>83</td>\n",
       "      <td>0</td>\n",
       "      <td>NaN</td>\n",
       "      <td>52</td>\n",
       "      <td>среднее</td>\n",
       "      <td>1</td>\n",
       "      <td>женат / замужем</td>\n",
       "      <td>0</td>\n",
       "      <td>M</td>\n",
       "      <td>сотрудник</td>\n",
       "      <td>0</td>\n",
       "      <td>NaN</td>\n",
       "      <td>жилье</td>\n",
       "    </tr>\n",
       "  </tbody>\n",
       "</table>\n",
       "</div>"
      ],
      "text/plain": [
       "    children  days_employed  dob_years education  education_id  \\\n",
       "12         0            NaN         65   среднее             1   \n",
       "26         0            NaN         41   среднее             1   \n",
       "29         0            NaN         63   среднее             1   \n",
       "41         0            NaN         50   среднее             1   \n",
       "55         0            NaN         54   среднее             1   \n",
       "65         0            NaN         21   среднее             1   \n",
       "67         0            NaN         52    высшее             0   \n",
       "72         1            NaN         32    высшее             0   \n",
       "82         2            NaN         50    высшее             0   \n",
       "83         0            NaN         52   среднее             1   \n",
       "\n",
       "            family_status  family_status_id gender  income_type  debt  \\\n",
       "12       гражданский брак                 1      M    пенсионер     0   \n",
       "26        женат / замужем                 0      M  госслужащий     0   \n",
       "29  Не женат / не замужем                 4      F    пенсионер     0   \n",
       "41        женат / замужем                 0      F  госслужащий     0   \n",
       "55       гражданский брак                 1      F    пенсионер     1   \n",
       "65  Не женат / не замужем                 4      M    компаньон     0   \n",
       "67        женат / замужем                 0      F    пенсионер     0   \n",
       "72        женат / замужем                 0      M  госслужащий     0   \n",
       "82        женат / замужем                 0      F    сотрудник     0   \n",
       "83        женат / замужем                 0      M    сотрудник     0   \n",
       "\n",
       "    total_income                                purpose  \n",
       "12           NaN                        сыграть свадьбу  \n",
       "26           NaN                            образование  \n",
       "29           NaN       строительство жилой недвижимости  \n",
       "41           NaN       сделка с подержанным автомобилем  \n",
       "55           NaN                        сыграть свадьбу  \n",
       "65           NaN  операции с коммерческой недвижимостью  \n",
       "67           NaN                покупка жилья для семьи  \n",
       "72           NaN  операции с коммерческой недвижимостью  \n",
       "82           NaN                                  жилье  \n",
       "83           NaN                                  жилье  "
      ]
     },
     "execution_count": 4,
     "metadata": {},
     "output_type": "execute_result"
    }
   ],
   "source": [
    "client_debts[client_debts['total_income'].isnull()].head(10)"
   ]
  },
  {
   "cell_type": "code",
   "execution_count": 5,
   "metadata": {},
   "outputs": [
    {
     "data": {
      "text/plain": [
       "0    19784\n",
       "1     1741\n",
       "Name: debt, dtype: int64"
      ]
     },
     "execution_count": 5,
     "metadata": {},
     "output_type": "execute_result"
    }
   ],
   "source": [
    "client_debts['debt'].value_counts()"
   ]
  },
  {
   "cell_type": "code",
   "execution_count": 6,
   "metadata": {},
   "outputs": [
    {
     "data": {
      "text/plain": [
       "0    2004\n",
       "1     170\n",
       "Name: debt, dtype: int64"
      ]
     },
     "execution_count": 6,
     "metadata": {},
     "output_type": "execute_result"
    }
   ],
   "source": [
    "client_debts[client_debts['total_income'].isnull()]['debt'].value_counts()"
   ]
  },
  {
   "cell_type": "markdown",
   "metadata": {},
   "source": [
    "Данные об общем трудовом стаже и ежемесячном доходе пропущены в одинаковых строках. Каких-то зависимостей с другими данными выявить не удалось. Например, среди данных с пропусками и без фигурирует примерно одинаковая доля должников. Можно предположить, что эти пропуски полностью случайны --  возможно графы в анкете клиента о его трудовой деятельности не прошли цифровую обработку.\n",
    "\n",
    "Пропущены количественные переменные. Заполним пропуски в колонке ежемесячный доход `'total_income'` исходя из медианного значения в подходящей группе занятости."
   ]
  },
  {
   "cell_type": "code",
   "execution_count": 7,
   "metadata": {},
   "outputs": [
    {
     "data": {
      "text/plain": [
       "income_type\n",
       "безработный        131339.751676\n",
       "в декрете           53829.130729\n",
       "госслужащий        150447.935283\n",
       "компаньон          172357.950966\n",
       "пенсионер          118514.486412\n",
       "предприниматель    499163.144947\n",
       "сотрудник          142594.396847\n",
       "студент             98201.625314\n",
       "Name: total_income, dtype: float64"
      ]
     },
     "execution_count": 7,
     "metadata": {},
     "output_type": "execute_result"
    }
   ],
   "source": [
    "client_debts.groupby('income_type')['total_income'].median()"
   ]
  },
  {
   "cell_type": "code",
   "execution_count": 8,
   "metadata": {
    "scrolled": true
   },
   "outputs": [
    {
     "name": "stdout",
     "output_type": "stream",
     "text": [
      "<class 'pandas.core.frame.DataFrame'>\n",
      "RangeIndex: 21525 entries, 0 to 21524\n",
      "Data columns (total 12 columns):\n",
      "children            21525 non-null int64\n",
      "days_employed       19351 non-null float64\n",
      "dob_years           21525 non-null int64\n",
      "education           21525 non-null object\n",
      "education_id        21525 non-null int64\n",
      "family_status       21525 non-null object\n",
      "family_status_id    21525 non-null int64\n",
      "gender              21525 non-null object\n",
      "income_type         21525 non-null object\n",
      "debt                21525 non-null int64\n",
      "total_income        21525 non-null float64\n",
      "purpose             21525 non-null object\n",
      "dtypes: float64(2), int64(5), object(5)\n",
      "memory usage: 2.0+ MB\n"
     ]
    }
   ],
   "source": [
    "client_debts['total_income'] = client_debts.groupby('income_type')['total_income'].apply(lambda x: x.fillna(x.median()))\n",
    "client_debts.info()"
   ]
  },
  {
   "cell_type": "markdown",
   "metadata": {},
   "source": [
    "---\n",
    "## Комментарий от наставника\n",
    "\n",
    "Хороший способ заполнения пропусков в столбце дохода. В отличие от циклов, он будет работать быстро даже на большом объеме данных.\n",
    "\n",
    "---"
   ]
  },
  {
   "cell_type": "markdown",
   "metadata": {},
   "source": [
    "Пропущенные значения в колонке трудовой стаж `'days_employed'` можно попытаться так же заполнить\n",
    "медианными значениями из групп занятости или возраста."
   ]
  },
  {
   "cell_type": "code",
   "execution_count": 9,
   "metadata": {},
   "outputs": [
    {
     "data": {
      "text/plain": [
       "income_type\n",
       "безработный        366413.652744\n",
       "в декрете           -3296.759962\n",
       "госслужащий         -2689.368353\n",
       "компаньон           -1547.382223\n",
       "пенсионер          365213.306266\n",
       "предприниматель      -520.848083\n",
       "сотрудник           -1574.202821\n",
       "студент              -578.751554\n",
       "Name: days_employed, dtype: float64"
      ]
     },
     "execution_count": 9,
     "metadata": {},
     "output_type": "execute_result"
    }
   ],
   "source": [
    "client_debts.groupby('income_type')['days_employed'].median()"
   ]
  },
  {
   "cell_type": "markdown",
   "metadata": {},
   "source": [
    "Стаж `'days_employed'` в некоторых записях отрицателен, заменим значения на абсолютные, проверим, что отрицательных значений не осталось:"
   ]
  },
  {
   "cell_type": "code",
   "execution_count": 10,
   "metadata": {},
   "outputs": [
    {
     "data": {
      "text/plain": [
       "0"
      ]
     },
     "execution_count": 10,
     "metadata": {},
     "output_type": "execute_result"
    }
   ],
   "source": [
    "client_debts['days_employed'] = client_debts['days_employed'].apply(lambda x: abs(x))\n",
    "len(client_debts[client_debts['days_employed'] < 0])"
   ]
  },
  {
   "cell_type": "markdown",
   "metadata": {},
   "source": [
    "Для визуального удобства создадим колонку с конвертированными в года днями стажа:"
   ]
  },
  {
   "cell_type": "code",
   "execution_count": 11,
   "metadata": {},
   "outputs": [],
   "source": [
    "client_debts['years_employed'] = client_debts['days_employed']/365"
   ]
  },
  {
   "cell_type": "code",
   "execution_count": 12,
   "metadata": {},
   "outputs": [
    {
     "data": {
      "text/plain": [
       "income_type\n",
       "безработный        1003.873021\n",
       "в декрете             9.032219\n",
       "госслужащий           7.368132\n",
       "компаньон             4.239403\n",
       "пенсионер          1000.584401\n",
       "предприниматель       1.426981\n",
       "сотрудник             4.312884\n",
       "студент               1.585621\n",
       "Name: years_employed, dtype: float64"
      ]
     },
     "execution_count": 12,
     "metadata": {},
     "output_type": "execute_result"
    }
   ],
   "source": [
    "client_debts.groupby('income_type')['years_employed'].median()"
   ]
  },
  {
   "cell_type": "code",
   "execution_count": 13,
   "metadata": {},
   "outputs": [
    {
     "data": {
      "text/plain": [
       "3856"
      ]
     },
     "execution_count": 13,
     "metadata": {},
     "output_type": "execute_result"
    }
   ],
   "source": [
    "client_debts[client_debts['income_type'] == 'пенсионер']['income_type'].count()"
   ]
  },
  {
   "cell_type": "code",
   "execution_count": 14,
   "metadata": {},
   "outputs": [
    {
     "data": {
      "text/plain": [
       "2"
      ]
     },
     "execution_count": 14,
     "metadata": {},
     "output_type": "execute_result"
    }
   ],
   "source": [
    "client_debts[client_debts['income_type'] == 'безработный']['income_type'].count()"
   ]
  },
  {
   "cell_type": "markdown",
   "metadata": {},
   "source": [
    "Для категорий безработный и пенсионер записи по стажу по 1000 лет, при этом категория пенсионеры составляет около 18% (3856/21525) всех категорий. Нужно обратить внимание коллег на некорректные значения."
   ]
  },
  {
   "cell_type": "code",
   "execution_count": 15,
   "metadata": {},
   "outputs": [
    {
     "data": {
      "text/plain": [
       "413"
      ]
     },
     "execution_count": 15,
     "metadata": {},
     "output_type": "execute_result"
    }
   ],
   "source": [
    "client_debts[(client_debts['days_employed'].isnull())&(client_debts['income_type'] == 'пенсионер')]['income_type'].count()"
   ]
  },
  {
   "cell_type": "markdown",
   "metadata": {},
   "source": [
    "Всего пропущенных значений с типом занятости пенсионер 413, не хочется добавлять в таблицу еще 413 записей\n",
    "со значением стажа 1000 лет.  \n",
    "Теперь уже из любопытства посмотрим, как обстоят дела со стажем в годах в разрезе по возрасту:"
   ]
  },
  {
   "cell_type": "code",
   "execution_count": 16,
   "metadata": {},
   "outputs": [
    {
     "data": {
      "text/plain": [
       "dob_years\n",
       "21       1.695161\n",
       "20       1.848874\n",
       "23       1.890970\n",
       "22       1.926877\n",
       "19       1.984911\n",
       "25       2.518354\n",
       "24       2.596523\n",
       "26       2.968926\n",
       "28       3.127960\n",
       "27       3.195102\n",
       "31       3.586031\n",
       "29       3.603982\n",
       "30       3.892019\n",
       "33       3.907986\n",
       "32       3.963349\n",
       "35       4.420534\n",
       "34       4.427151\n",
       "75       4.599917\n",
       "40       4.736813\n",
       "0        4.819282\n",
       "36       4.930193\n",
       "37       4.977297\n",
       "38       4.978614\n",
       "41       5.108651\n",
       "43       5.120602\n",
       "39       5.181886\n",
       "44       5.710493\n",
       "46       5.754721\n",
       "47       6.035832\n",
       "42       6.175292\n",
       "45       6.176524\n",
       "48       6.656643\n",
       "49       7.014567\n",
       "50       7.197223\n",
       "51       7.797481\n",
       "52       9.303122\n",
       "53      10.000021\n",
       "54      11.031620\n",
       "56      18.767615\n",
       "55      19.297181\n",
       "58     907.523224\n",
       "57     914.941073\n",
       "74     939.934195\n",
       "61     942.424471\n",
       "59     943.485856\n",
       "60     957.300102\n",
       "62     972.552653\n",
       "64     974.744007\n",
       "65     978.367034\n",
       "67     978.692754\n",
       "63     982.143277\n",
       "71     985.482024\n",
       "69     992.639384\n",
       "70     993.939103\n",
       "66     996.787504\n",
       "73     998.057669\n",
       "68    1000.762177\n",
       "72    1006.517735\n",
       "Name: years_employed, dtype: float64"
      ]
     },
     "execution_count": 16,
     "metadata": {},
     "output_type": "execute_result"
    }
   ],
   "source": [
    "client_debts.groupby('dob_years')['years_employed'].median().sort_values()"
   ]
  },
  {
   "cell_type": "code",
   "execution_count": 17,
   "metadata": {},
   "outputs": [
    {
     "data": {
      "text/plain": [
       "101"
      ]
     },
     "execution_count": 17,
     "metadata": {},
     "output_type": "execute_result"
    }
   ],
   "source": [
    "client_debts[client_debts['dob_years'] == 0]['dob_years'].count()"
   ]
  },
  {
   "cell_type": "markdown",
   "metadata": {},
   "source": [
    "Выяснилось, что существуют записи с возрастом равным нулю. Что тоже можно считать пропущенными данными.  \n",
    "\n",
    "Возвращаясь к колонке стаж `'days_employed'` на данный момент эти данные с трудом можно заполнить характерными значениями.\n",
    "В постановке задачи нужно выяснить влияет семейное положение и количество детей клиента на факт погашения кредита в срок, для нашего исследования мы можем пренебречь колонкой 'days_employed', так же удалим вспомогательную колонку 'years_employed'"
   ]
  },
  {
   "cell_type": "code",
   "execution_count": 18,
   "metadata": {},
   "outputs": [
    {
     "name": "stdout",
     "output_type": "stream",
     "text": [
      "<class 'pandas.core.frame.DataFrame'>\n",
      "RangeIndex: 21525 entries, 0 to 21524\n",
      "Data columns (total 11 columns):\n",
      "children            21525 non-null int64\n",
      "dob_years           21525 non-null int64\n",
      "education           21525 non-null object\n",
      "education_id        21525 non-null int64\n",
      "family_status       21525 non-null object\n",
      "family_status_id    21525 non-null int64\n",
      "gender              21525 non-null object\n",
      "income_type         21525 non-null object\n",
      "debt                21525 non-null int64\n",
      "total_income        21525 non-null float64\n",
      "purpose             21525 non-null object\n",
      "dtypes: float64(1), int64(5), object(5)\n",
      "memory usage: 1.8+ MB\n"
     ]
    }
   ],
   "source": [
    "del client_debts['days_employed']\n",
    "del client_debts['years_employed']\n",
    "client_debts.info()"
   ]
  },
  {
   "cell_type": "markdown",
   "metadata": {},
   "source": [
    "### Вывод"
   ]
  },
  {
   "cell_type": "markdown",
   "metadata": {},
   "source": [
    "Помимо отсутствующих значений в предоставленных данных имелись так же и некорректные записи. Где это было возможно отсутствующие значения были заменены на характерные. Колонка с данными, которые не будут задействованы в решении поставленной задачи \"стаж\" (\"days_employed\") -- удалена"
   ]
  },
  {
   "cell_type": "markdown",
   "metadata": {},
   "source": [
    "---\n",
    "## Комментарий от наставника\n",
    "\n",
    "Удаление столбца возможно, т.к. он не участвует в анализе. В реальной жизни, конечно, с этим пришлось бы разбираться.\n",
    "\n",
    "---"
   ]
  },
  {
   "cell_type": "markdown",
   "metadata": {},
   "source": [
    "### Замена типа данных"
   ]
  },
  {
   "cell_type": "markdown",
   "metadata": {},
   "source": [
    "`'total_income'` ежемесячный доход представлен типом данных с плавающей точкой, несмотря на то, что в задаче не поясняется, в каких единицах представлен доход, а так же доход ли это на всю семью, или только на заявителя, хвост цифр после запятой нам не понадобится. Ведь мы скорее всего имеем дело c величинами в рублях.\n",
    "Приведем вещественный формат к целочисленному с помощью метода `astype`"
   ]
  },
  {
   "cell_type": "code",
   "execution_count": 19,
   "metadata": {},
   "outputs": [
    {
     "data": {
      "text/html": [
       "<div>\n",
       "<style scoped>\n",
       "    .dataframe tbody tr th:only-of-type {\n",
       "        vertical-align: middle;\n",
       "    }\n",
       "\n",
       "    .dataframe tbody tr th {\n",
       "        vertical-align: top;\n",
       "    }\n",
       "\n",
       "    .dataframe thead th {\n",
       "        text-align: right;\n",
       "    }\n",
       "</style>\n",
       "<table border=\"1\" class=\"dataframe\">\n",
       "  <thead>\n",
       "    <tr style=\"text-align: right;\">\n",
       "      <th></th>\n",
       "      <th>children</th>\n",
       "      <th>dob_years</th>\n",
       "      <th>education</th>\n",
       "      <th>education_id</th>\n",
       "      <th>family_status</th>\n",
       "      <th>family_status_id</th>\n",
       "      <th>gender</th>\n",
       "      <th>income_type</th>\n",
       "      <th>debt</th>\n",
       "      <th>total_income</th>\n",
       "      <th>purpose</th>\n",
       "    </tr>\n",
       "  </thead>\n",
       "  <tbody>\n",
       "    <tr>\n",
       "      <td>0</td>\n",
       "      <td>1</td>\n",
       "      <td>42</td>\n",
       "      <td>высшее</td>\n",
       "      <td>0</td>\n",
       "      <td>женат / замужем</td>\n",
       "      <td>0</td>\n",
       "      <td>F</td>\n",
       "      <td>сотрудник</td>\n",
       "      <td>0</td>\n",
       "      <td>253875</td>\n",
       "      <td>покупка жилья</td>\n",
       "    </tr>\n",
       "    <tr>\n",
       "      <td>1</td>\n",
       "      <td>1</td>\n",
       "      <td>36</td>\n",
       "      <td>среднее</td>\n",
       "      <td>1</td>\n",
       "      <td>женат / замужем</td>\n",
       "      <td>0</td>\n",
       "      <td>F</td>\n",
       "      <td>сотрудник</td>\n",
       "      <td>0</td>\n",
       "      <td>112080</td>\n",
       "      <td>приобретение автомобиля</td>\n",
       "    </tr>\n",
       "    <tr>\n",
       "      <td>2</td>\n",
       "      <td>0</td>\n",
       "      <td>33</td>\n",
       "      <td>Среднее</td>\n",
       "      <td>1</td>\n",
       "      <td>женат / замужем</td>\n",
       "      <td>0</td>\n",
       "      <td>M</td>\n",
       "      <td>сотрудник</td>\n",
       "      <td>0</td>\n",
       "      <td>145885</td>\n",
       "      <td>покупка жилья</td>\n",
       "    </tr>\n",
       "    <tr>\n",
       "      <td>3</td>\n",
       "      <td>3</td>\n",
       "      <td>32</td>\n",
       "      <td>среднее</td>\n",
       "      <td>1</td>\n",
       "      <td>женат / замужем</td>\n",
       "      <td>0</td>\n",
       "      <td>M</td>\n",
       "      <td>сотрудник</td>\n",
       "      <td>0</td>\n",
       "      <td>267628</td>\n",
       "      <td>дополнительное образование</td>\n",
       "    </tr>\n",
       "    <tr>\n",
       "      <td>4</td>\n",
       "      <td>0</td>\n",
       "      <td>53</td>\n",
       "      <td>среднее</td>\n",
       "      <td>1</td>\n",
       "      <td>гражданский брак</td>\n",
       "      <td>1</td>\n",
       "      <td>F</td>\n",
       "      <td>пенсионер</td>\n",
       "      <td>0</td>\n",
       "      <td>158616</td>\n",
       "      <td>сыграть свадьбу</td>\n",
       "    </tr>\n",
       "    <tr>\n",
       "      <td>5</td>\n",
       "      <td>0</td>\n",
       "      <td>27</td>\n",
       "      <td>высшее</td>\n",
       "      <td>0</td>\n",
       "      <td>гражданский брак</td>\n",
       "      <td>1</td>\n",
       "      <td>M</td>\n",
       "      <td>компаньон</td>\n",
       "      <td>0</td>\n",
       "      <td>255763</td>\n",
       "      <td>покупка жилья</td>\n",
       "    </tr>\n",
       "    <tr>\n",
       "      <td>6</td>\n",
       "      <td>0</td>\n",
       "      <td>43</td>\n",
       "      <td>высшее</td>\n",
       "      <td>0</td>\n",
       "      <td>женат / замужем</td>\n",
       "      <td>0</td>\n",
       "      <td>F</td>\n",
       "      <td>компаньон</td>\n",
       "      <td>0</td>\n",
       "      <td>240525</td>\n",
       "      <td>операции с жильем</td>\n",
       "    </tr>\n",
       "    <tr>\n",
       "      <td>7</td>\n",
       "      <td>0</td>\n",
       "      <td>50</td>\n",
       "      <td>СРЕДНЕЕ</td>\n",
       "      <td>1</td>\n",
       "      <td>женат / замужем</td>\n",
       "      <td>0</td>\n",
       "      <td>M</td>\n",
       "      <td>сотрудник</td>\n",
       "      <td>0</td>\n",
       "      <td>135823</td>\n",
       "      <td>образование</td>\n",
       "    </tr>\n",
       "    <tr>\n",
       "      <td>8</td>\n",
       "      <td>2</td>\n",
       "      <td>35</td>\n",
       "      <td>ВЫСШЕЕ</td>\n",
       "      <td>0</td>\n",
       "      <td>гражданский брак</td>\n",
       "      <td>1</td>\n",
       "      <td>F</td>\n",
       "      <td>сотрудник</td>\n",
       "      <td>0</td>\n",
       "      <td>95856</td>\n",
       "      <td>на проведение свадьбы</td>\n",
       "    </tr>\n",
       "    <tr>\n",
       "      <td>9</td>\n",
       "      <td>0</td>\n",
       "      <td>41</td>\n",
       "      <td>среднее</td>\n",
       "      <td>1</td>\n",
       "      <td>женат / замужем</td>\n",
       "      <td>0</td>\n",
       "      <td>M</td>\n",
       "      <td>сотрудник</td>\n",
       "      <td>0</td>\n",
       "      <td>144425</td>\n",
       "      <td>покупка жилья для семьи</td>\n",
       "    </tr>\n",
       "  </tbody>\n",
       "</table>\n",
       "</div>"
      ],
      "text/plain": [
       "   children  dob_years education  education_id     family_status  \\\n",
       "0         1         42    высшее             0   женат / замужем   \n",
       "1         1         36   среднее             1   женат / замужем   \n",
       "2         0         33   Среднее             1   женат / замужем   \n",
       "3         3         32   среднее             1   женат / замужем   \n",
       "4         0         53   среднее             1  гражданский брак   \n",
       "5         0         27    высшее             0  гражданский брак   \n",
       "6         0         43    высшее             0   женат / замужем   \n",
       "7         0         50   СРЕДНЕЕ             1   женат / замужем   \n",
       "8         2         35    ВЫСШЕЕ             0  гражданский брак   \n",
       "9         0         41   среднее             1   женат / замужем   \n",
       "\n",
       "   family_status_id gender income_type  debt  total_income  \\\n",
       "0                 0      F   сотрудник     0        253875   \n",
       "1                 0      F   сотрудник     0        112080   \n",
       "2                 0      M   сотрудник     0        145885   \n",
       "3                 0      M   сотрудник     0        267628   \n",
       "4                 1      F   пенсионер     0        158616   \n",
       "5                 1      M   компаньон     0        255763   \n",
       "6                 0      F   компаньон     0        240525   \n",
       "7                 0      M   сотрудник     0        135823   \n",
       "8                 1      F   сотрудник     0         95856   \n",
       "9                 0      M   сотрудник     0        144425   \n",
       "\n",
       "                      purpose  \n",
       "0               покупка жилья  \n",
       "1     приобретение автомобиля  \n",
       "2               покупка жилья  \n",
       "3  дополнительное образование  \n",
       "4             сыграть свадьбу  \n",
       "5               покупка жилья  \n",
       "6           операции с жильем  \n",
       "7                 образование  \n",
       "8       на проведение свадьбы  \n",
       "9     покупка жилья для семьи  "
      ]
     },
     "execution_count": 19,
     "metadata": {},
     "output_type": "execute_result"
    }
   ],
   "source": [
    "client_debts['total_income'] = client_debts['total_income'].astype('int')\n",
    "client_debts.head(10)"
   ]
  },
  {
   "cell_type": "markdown",
   "metadata": {},
   "source": [
    "### Вывод"
   ]
  },
  {
   "cell_type": "markdown",
   "metadata": {},
   "source": [
    "Теперь для дальнейшего анализа данные освобождены от множественных цифр после запятой."
   ]
  },
  {
   "cell_type": "markdown",
   "metadata": {},
   "source": [
    "---\n",
    "## Комментарий от наставника\n",
    "\n",
    "Исходя из общей информации о таблице, мы видим, что столбец доходов имеет вещественный тип данных, который и нужно было заменить на целочисленный. Замена выполнена верно. Также хорошо научиться использовать метод to_numeric().\n",
    "\n",
    "---"
   ]
  },
  {
   "cell_type": "markdown",
   "metadata": {},
   "source": [
    "### Обработка дубликатов"
   ]
  },
  {
   "cell_type": "markdown",
   "metadata": {},
   "source": [
    "\n",
    "В первых 10 строках таблицы уже можно заметить, что в колонке `'education'` данные представлены в разных регистрах. В данном случае мы имеем дело не с полными дубликатами, посмотрим какие есть уникальные значения в этом столбце:"
   ]
  },
  {
   "cell_type": "code",
   "execution_count": 20,
   "metadata": {},
   "outputs": [
    {
     "data": {
      "text/plain": [
       "среднее                13750\n",
       "высшее                  4718\n",
       "СРЕДНЕЕ                  772\n",
       "Среднее                  711\n",
       "неоконченное высшее      668\n",
       "ВЫСШЕЕ                   274\n",
       "Высшее                   268\n",
       "начальное                250\n",
       "Неоконченное высшее       47\n",
       "НЕОКОНЧЕННОЕ ВЫСШЕЕ       29\n",
       "НАЧАЛЬНОЕ                 17\n",
       "Начальное                 15\n",
       "ученая степень             4\n",
       "Ученая степень             1\n",
       "УЧЕНАЯ СТЕПЕНЬ             1\n",
       "Name: education, dtype: int64"
      ]
     },
     "execution_count": 20,
     "metadata": {},
     "output_type": "execute_result"
    }
   ],
   "source": [
    "client_debts['education'].value_counts()"
   ]
  },
  {
   "cell_type": "markdown",
   "metadata": {},
   "source": [
    "Возможно отсутствие стадарта для записи информации об образовании привело к ктому, что имеются дубликаты --  одни и те же категории представлены в разных регистрах. Для устранения дубликатов такого рода приведем записи столбца образование к нижнему регистру, проверим количество уникальных значений после преобразования:"
   ]
  },
  {
   "cell_type": "code",
   "execution_count": 21,
   "metadata": {},
   "outputs": [
    {
     "data": {
      "text/plain": [
       "среднее                15233\n",
       "высшее                  5260\n",
       "неоконченное высшее      744\n",
       "начальное                282\n",
       "ученая степень             6\n",
       "Name: education, dtype: int64"
      ]
     },
     "execution_count": 21,
     "metadata": {},
     "output_type": "execute_result"
    }
   ],
   "source": [
    "client_debts['education'] = client_debts['education'].str.lower()\n",
    "client_debts['education'].value_counts()"
   ]
  },
  {
   "cell_type": "markdown",
   "metadata": {},
   "source": [
    "Посмотрим, нет ли повторов в регистре в колонке, которая понадобится нам для решения задачи, `'family_status'`:"
   ]
  },
  {
   "cell_type": "code",
   "execution_count": 22,
   "metadata": {},
   "outputs": [
    {
     "data": {
      "text/plain": [
       "женат / замужем          12380\n",
       "гражданский брак          4177\n",
       "Не женат / не замужем     2813\n",
       "в разводе                 1195\n",
       "вдовец / вдова             960\n",
       "Name: family_status, dtype: int64"
      ]
     },
     "execution_count": 22,
     "metadata": {},
     "output_type": "execute_result"
    }
   ],
   "source": [
    "client_debts['family_status'].value_counts()"
   ]
  },
  {
   "cell_type": "markdown",
   "metadata": {},
   "source": [
    "Приведем к нижнему регистру категории семейного положения:"
   ]
  },
  {
   "cell_type": "code",
   "execution_count": 23,
   "metadata": {},
   "outputs": [
    {
     "data": {
      "text/plain": [
       "женат / замужем          12380\n",
       "гражданский брак          4177\n",
       "не женат / не замужем     2813\n",
       "в разводе                 1195\n",
       "вдовец / вдова             960\n",
       "Name: family_status, dtype: int64"
      ]
     },
     "execution_count": 23,
     "metadata": {},
     "output_type": "execute_result"
    }
   ],
   "source": [
    "client_debts['family_status'] = client_debts['family_status'].str.lower()\n",
    "client_debts['family_status'].value_counts()"
   ]
  },
  {
   "cell_type": "code",
   "execution_count": 24,
   "metadata": {},
   "outputs": [
    {
     "data": {
      "text/plain": [
       "среднее                15233\n",
       "высшее                  5260\n",
       "неоконченное высшее      744\n",
       "начальное                282\n",
       "ученая степень             6\n",
       "Name: education, dtype: int64"
      ]
     },
     "execution_count": 24,
     "metadata": {},
     "output_type": "execute_result"
    }
   ],
   "source": [
    "client_debts['education'] = client_debts['education'].str.lower()\n",
    "client_debts['education'].value_counts()"
   ]
  },
  {
   "cell_type": "code",
   "execution_count": 26,
   "metadata": {},
   "outputs": [
    {
     "data": {
      "text/plain": [
       "71"
      ]
     },
     "execution_count": 26,
     "metadata": {},
     "output_type": "execute_result"
    }
   ],
   "source": [
    "client_debts.duplicated().sum()"
   ]
  },
  {
   "cell_type": "code",
   "execution_count": 28,
   "metadata": {},
   "outputs": [],
   "source": [
    "client_debts = client_debts.drop_duplicates()"
   ]
  },
  {
   "cell_type": "markdown",
   "metadata": {},
   "source": [
    "### Вывод"
   ]
  },
  {
   "cell_type": "markdown",
   "metadata": {},
   "source": [
    "В представленной таблице в основном мы имеем дело с данными описывающими те или иные категории, из-за не стандартизироанного формата записи категории дублируются. Приведя их к единому формату, мы избавились от дубликатов."
   ]
  },
  {
   "cell_type": "markdown",
   "metadata": {},
   "source": [
    "---\n",
    "## Комментарий от наставника\n",
    "\n",
    "Нет, это все еще исправление ошибок в данных.  Дубликаты - это одинаковые строки в нашей таблице. Удалять их надо, т.к. они вызывают смещение финальных оценок. Хоть в таблице и нет уникального ключа, но необходимо научиться это делать. Найти число дубликатов можно камандами duplicated().sum(). Изучи способы, как их удалять из данных.\n",
    "\n",
    "---"
   ]
  },
  {
   "cell_type": "markdown",
   "metadata": {},
   "source": [
    "<font color=blue> Дубликаты удалены.\n",
    "    \n",
    "---"
   ]
  },
  {
   "cell_type": "markdown",
   "metadata": {},
   "source": [
    "### Лемматизация"
   ]
  },
  {
   "cell_type": "markdown",
   "metadata": {},
   "source": [
    " Посмотрим как представлены категории столбца с целями кредита `'purpose'`"
   ]
  },
  {
   "cell_type": "code",
   "execution_count": 29,
   "metadata": {},
   "outputs": [
    {
     "data": {
      "text/plain": [
       "свадьба                                   791\n",
       "на проведение свадьбы                     768\n",
       "сыграть свадьбу                           765\n",
       "операции с недвижимостью                  675\n",
       "покупка коммерческой недвижимости         661\n",
       "операции с жильем                         652\n",
       "покупка жилья для сдачи                   651\n",
       "операции с коммерческой недвижимостью     650\n",
       "жилье                                     646\n",
       "покупка жилья                             646\n",
       "покупка жилья для семьи                   638\n",
       "строительство собственной недвижимости    635\n",
       "недвижимость                              633\n",
       "операции со своей недвижимостью           627\n",
       "строительство жилой недвижимости          624\n",
       "покупка недвижимости                      621\n",
       "покупка своего жилья                      620\n",
       "строительство недвижимости                619\n",
       "ремонт жилью                              607\n",
       "покупка жилой недвижимости                606\n",
       "на покупку своего автомобиля              505\n",
       "заняться высшим образованием              496\n",
       "автомобиль                                494\n",
       "сделка с подержанным автомобилем          486\n",
       "автомобили                                478\n",
       "на покупку подержанного автомобиля        478\n",
       "свой автомобиль                           478\n",
       "на покупку автомобиля                     471\n",
       "приобретение автомобиля                   461\n",
       "дополнительное образование                460\n",
       "сделка с автомобилем                      455\n",
       "высшее образование                        452\n",
       "образование                               447\n",
       "получение дополнительного образования     446\n",
       "получение образования                     442\n",
       "профильное образование                    436\n",
       "получение высшего образования             426\n",
       "заняться образованием                     408\n",
       "Name: purpose, dtype: int64"
      ]
     },
     "execution_count": 29,
     "metadata": {},
     "output_type": "execute_result"
    }
   ],
   "source": [
    "client_debts['purpose'].value_counts()"
   ]
  },
  {
   "cell_type": "markdown",
   "metadata": {},
   "source": [
    "Видим большой разброс наименований категорий целей получения кредита, которые можно привести к нескольким основным группам. Попытаемся выделить основные группы целей. Для проверки вхождения записи по цели кредита в ту или иную группу будем пребразовывать записи к лемматизированному виду и проверять вхождение ключевых слов, определяющих принадлежность к той или иной группе.\n",
    "\n",
    "посмотрим, как выглядят лемматизированные описания целей получения кредита:"
   ]
  },
  {
   "cell_type": "code",
   "execution_count": 30,
   "metadata": {
    "scrolled": false
   },
   "outputs": [
    {
     "data": {
      "text/plain": [
       "                  33570\n",
       "\\n                21454\n",
       "недвижимость       6351\n",
       "покупка            5897\n",
       "жилье              4460\n",
       "автомобиль         4306\n",
       "образование        4013\n",
       "с                  2918\n",
       "операция           2604\n",
       "свадьба            2324\n",
       "свой               2230\n",
       "на                 2222\n",
       "строительство      1878\n",
       "высокий            1374\n",
       "получение          1314\n",
       "коммерческий       1311\n",
       "для                1289\n",
       "жилой              1230\n",
       "сделка              941\n",
       "дополнительный      906\n",
       "заниматься          904\n",
       "проведение          768\n",
       "сыграть             765\n",
       "сдача               651\n",
       "семья               638\n",
       "собственный         635\n",
       "со                  627\n",
       "ремонт              607\n",
       "подержанный         486\n",
       "подержать           478\n",
       "приобретение        461\n",
       "профильный          436\n",
       "dtype: int64"
      ]
     },
     "execution_count": 30,
     "metadata": {},
     "output_type": "execute_result"
    }
   ],
   "source": [
    "from pymystem3 import Mystem\n",
    "m = Mystem()\n",
    "\n",
    "lemmatized = []\n",
    "for line in client_debts['purpose']:\n",
    "    lemmatized += m.lemmatize(line)\n",
    "\n",
    "pd.Series(lemmatized).value_counts()\n"
   ]
  },
  {
   "cell_type": "markdown",
   "metadata": {},
   "source": [
    "Визуально можно оценить изначальные и лемматизированные записи о целях кредита. Уже при просмотре изначальных значений можно было выделить категории. Основнную сложность представляют записи про жилье коммерческое и некоммерческое и недвижимость. Визуально оценив лемматизированные слова, все же трудно выделяить однозначные ключи для разделения личной от коммерческой недвижимости, поэтому сформируем их в одну группу.\n",
    "\n",
    "И так, можно выделить несколько целей: \n",
    "- образование \n",
    "- свадьба (приятно, что в этой категории присутствуют и пенсионеры)  \n",
    "- автомобиль\n",
    "- операции с недвижимостью / недвижимостью (где порой трудно выделить коммерческие и личные цели, пока оставим их как одну группу)\n",
    "\n",
    "добавим колонку с указанными категориями, напишем впомогательную функцию для отнесения цели к той или иной групе:"
   ]
  },
  {
   "cell_type": "code",
   "execution_count": 31,
   "metadata": {},
   "outputs": [
    {
     "data": {
      "text/html": [
       "<div>\n",
       "<style scoped>\n",
       "    .dataframe tbody tr th:only-of-type {\n",
       "        vertical-align: middle;\n",
       "    }\n",
       "\n",
       "    .dataframe tbody tr th {\n",
       "        vertical-align: top;\n",
       "    }\n",
       "\n",
       "    .dataframe thead th {\n",
       "        text-align: right;\n",
       "    }\n",
       "</style>\n",
       "<table border=\"1\" class=\"dataframe\">\n",
       "  <thead>\n",
       "    <tr style=\"text-align: right;\">\n",
       "      <th></th>\n",
       "      <th>children</th>\n",
       "      <th>dob_years</th>\n",
       "      <th>education</th>\n",
       "      <th>education_id</th>\n",
       "      <th>family_status</th>\n",
       "      <th>family_status_id</th>\n",
       "      <th>gender</th>\n",
       "      <th>income_type</th>\n",
       "      <th>debt</th>\n",
       "      <th>total_income</th>\n",
       "      <th>purpose</th>\n",
       "      <th>strict_purpose</th>\n",
       "    </tr>\n",
       "  </thead>\n",
       "  <tbody>\n",
       "    <tr>\n",
       "      <td>0</td>\n",
       "      <td>1</td>\n",
       "      <td>42</td>\n",
       "      <td>высшее</td>\n",
       "      <td>0</td>\n",
       "      <td>женат / замужем</td>\n",
       "      <td>0</td>\n",
       "      <td>F</td>\n",
       "      <td>сотрудник</td>\n",
       "      <td>0</td>\n",
       "      <td>253875</td>\n",
       "      <td>покупка жилья</td>\n",
       "      <td>недвижимость</td>\n",
       "    </tr>\n",
       "    <tr>\n",
       "      <td>1</td>\n",
       "      <td>1</td>\n",
       "      <td>36</td>\n",
       "      <td>среднее</td>\n",
       "      <td>1</td>\n",
       "      <td>женат / замужем</td>\n",
       "      <td>0</td>\n",
       "      <td>F</td>\n",
       "      <td>сотрудник</td>\n",
       "      <td>0</td>\n",
       "      <td>112080</td>\n",
       "      <td>приобретение автомобиля</td>\n",
       "      <td>автомобиль</td>\n",
       "    </tr>\n",
       "    <tr>\n",
       "      <td>2</td>\n",
       "      <td>0</td>\n",
       "      <td>33</td>\n",
       "      <td>среднее</td>\n",
       "      <td>1</td>\n",
       "      <td>женат / замужем</td>\n",
       "      <td>0</td>\n",
       "      <td>M</td>\n",
       "      <td>сотрудник</td>\n",
       "      <td>0</td>\n",
       "      <td>145885</td>\n",
       "      <td>покупка жилья</td>\n",
       "      <td>недвижимость</td>\n",
       "    </tr>\n",
       "    <tr>\n",
       "      <td>3</td>\n",
       "      <td>3</td>\n",
       "      <td>32</td>\n",
       "      <td>среднее</td>\n",
       "      <td>1</td>\n",
       "      <td>женат / замужем</td>\n",
       "      <td>0</td>\n",
       "      <td>M</td>\n",
       "      <td>сотрудник</td>\n",
       "      <td>0</td>\n",
       "      <td>267628</td>\n",
       "      <td>дополнительное образование</td>\n",
       "      <td>образование</td>\n",
       "    </tr>\n",
       "    <tr>\n",
       "      <td>4</td>\n",
       "      <td>0</td>\n",
       "      <td>53</td>\n",
       "      <td>среднее</td>\n",
       "      <td>1</td>\n",
       "      <td>гражданский брак</td>\n",
       "      <td>1</td>\n",
       "      <td>F</td>\n",
       "      <td>пенсионер</td>\n",
       "      <td>0</td>\n",
       "      <td>158616</td>\n",
       "      <td>сыграть свадьбу</td>\n",
       "      <td>свадьба</td>\n",
       "    </tr>\n",
       "  </tbody>\n",
       "</table>\n",
       "</div>"
      ],
      "text/plain": [
       "   children  dob_years education  education_id     family_status  \\\n",
       "0         1         42    высшее             0   женат / замужем   \n",
       "1         1         36   среднее             1   женат / замужем   \n",
       "2         0         33   среднее             1   женат / замужем   \n",
       "3         3         32   среднее             1   женат / замужем   \n",
       "4         0         53   среднее             1  гражданский брак   \n",
       "\n",
       "   family_status_id gender income_type  debt  total_income  \\\n",
       "0                 0      F   сотрудник     0        253875   \n",
       "1                 0      F   сотрудник     0        112080   \n",
       "2                 0      M   сотрудник     0        145885   \n",
       "3                 0      M   сотрудник     0        267628   \n",
       "4                 1      F   пенсионер     0        158616   \n",
       "\n",
       "                      purpose strict_purpose  \n",
       "0               покупка жилья   недвижимость  \n",
       "1     приобретение автомобиля     автомобиль  \n",
       "2               покупка жилья   недвижимость  \n",
       "3  дополнительное образование    образование  \n",
       "4             сыграть свадьбу        свадьба  "
      ]
     },
     "execution_count": 31,
     "metadata": {},
     "output_type": "execute_result"
    }
   ],
   "source": [
    "# list -  список (лемматизированных в последствии) слов каждой строки колонки\n",
    "# проверяем, есть ли в нем ключевое слово для соотнесения к той или иной категории\n",
    "def define_category(list):\n",
    "    if 'свадьба' in list:\n",
    "        return 'свадьба'\n",
    "    if 'автомобиль' in list:\n",
    "        return 'автомобиль'\n",
    "    if 'образование' in list:\n",
    "        return 'образование'\n",
    "    if 'жилье' or 'недвижимость' in list:\n",
    "        return 'недвижимость'\n",
    "\n",
    "client_debts['strict_purpose'] = client_debts['purpose'].apply(lambda x: define_category(m.lemmatize(x)))\n",
    "client_debts.head()"
   ]
  },
  {
   "cell_type": "markdown",
   "metadata": {},
   "source": [
    "Проверим, нет ли в новом столбце пропусков:"
   ]
  },
  {
   "cell_type": "code",
   "execution_count": 32,
   "metadata": {},
   "outputs": [
    {
     "data": {
      "text/plain": [
       "0"
      ]
     },
     "execution_count": 32,
     "metadata": {},
     "output_type": "execute_result"
    }
   ],
   "source": [
    "client_debts[client_debts['strict_purpose'].isnull()]['strict_purpose'].count()"
   ]
  },
  {
   "cell_type": "markdown",
   "metadata": {},
   "source": [
    "### Вывод"
   ]
  },
  {
   "cell_type": "markdown",
   "metadata": {},
   "source": [
    "Можно выделить несколько базовых целей, для которых люди собираются брать кредит. Как ни странно, лидирует кредит на проведение свадьбы. Так или иначе для удобства работы с данными в дальнейшем всем имеющимся вариациям целей можно присвоить одну из категорий"
   ]
  },
  {
   "cell_type": "markdown",
   "metadata": {},
   "source": [
    "---\n",
    "## Комментарий от наставника\n",
    "\n",
    "Логика верна. Хорошо бы на данном этапе подробно объяснить данный выбор. Метод lemmatize() использован правильно. Желательно подробно описывать все свои действия.\n",
    "\n",
    "-----"
   ]
  },
  {
   "cell_type": "markdown",
   "metadata": {},
   "source": [
    "### Категоризация данных"
   ]
  },
  {
   "cell_type": "markdown",
   "metadata": {},
   "source": [
    "Посмотрим, какая вариативность количества детей у клиентов существует:"
   ]
  },
  {
   "cell_type": "code",
   "execution_count": 33,
   "metadata": {},
   "outputs": [
    {
     "data": {
      "text/plain": [
       " 0     14091\n",
       " 1      4808\n",
       " 2      2052\n",
       " 3       330\n",
       " 20       76\n",
       "-1        47\n",
       " 4        41\n",
       " 5         9\n",
       "Name: children, dtype: int64"
      ]
     },
     "execution_count": 33,
     "metadata": {},
     "output_type": "execute_result"
    }
   ],
   "source": [
    "client_debts['children'].value_counts()"
   ]
  },
  {
   "cell_type": "markdown",
   "metadata": {},
   "source": [
    "В данных присутствуют некорректные значения. Представим отрицательное число детей в абсолютном виде спомощью функции abs. Выделим три группы:\n",
    "- 'бездетные'\n",
    "- 'среднедетные' (1-2)\n",
    "- 'многодетные' (>= 3)"
   ]
  },
  {
   "cell_type": "code",
   "execution_count": 34,
   "metadata": {},
   "outputs": [
    {
     "data": {
      "text/html": [
       "<div>\n",
       "<style scoped>\n",
       "    .dataframe tbody tr th:only-of-type {\n",
       "        vertical-align: middle;\n",
       "    }\n",
       "\n",
       "    .dataframe tbody tr th {\n",
       "        vertical-align: top;\n",
       "    }\n",
       "\n",
       "    .dataframe thead th {\n",
       "        text-align: right;\n",
       "    }\n",
       "</style>\n",
       "<table border=\"1\" class=\"dataframe\">\n",
       "  <thead>\n",
       "    <tr style=\"text-align: right;\">\n",
       "      <th></th>\n",
       "      <th>children</th>\n",
       "      <th>dob_years</th>\n",
       "      <th>education</th>\n",
       "      <th>education_id</th>\n",
       "      <th>family_status</th>\n",
       "      <th>family_status_id</th>\n",
       "      <th>gender</th>\n",
       "      <th>income_type</th>\n",
       "      <th>debt</th>\n",
       "      <th>total_income</th>\n",
       "      <th>purpose</th>\n",
       "      <th>strict_purpose</th>\n",
       "      <th>children_categories</th>\n",
       "    </tr>\n",
       "  </thead>\n",
       "  <tbody>\n",
       "    <tr>\n",
       "      <td>0</td>\n",
       "      <td>1</td>\n",
       "      <td>42</td>\n",
       "      <td>высшее</td>\n",
       "      <td>0</td>\n",
       "      <td>женат / замужем</td>\n",
       "      <td>0</td>\n",
       "      <td>F</td>\n",
       "      <td>сотрудник</td>\n",
       "      <td>0</td>\n",
       "      <td>253875</td>\n",
       "      <td>покупка жилья</td>\n",
       "      <td>недвижимость</td>\n",
       "      <td>среднедетные</td>\n",
       "    </tr>\n",
       "    <tr>\n",
       "      <td>1</td>\n",
       "      <td>1</td>\n",
       "      <td>36</td>\n",
       "      <td>среднее</td>\n",
       "      <td>1</td>\n",
       "      <td>женат / замужем</td>\n",
       "      <td>0</td>\n",
       "      <td>F</td>\n",
       "      <td>сотрудник</td>\n",
       "      <td>0</td>\n",
       "      <td>112080</td>\n",
       "      <td>приобретение автомобиля</td>\n",
       "      <td>автомобиль</td>\n",
       "      <td>среднедетные</td>\n",
       "    </tr>\n",
       "    <tr>\n",
       "      <td>2</td>\n",
       "      <td>0</td>\n",
       "      <td>33</td>\n",
       "      <td>среднее</td>\n",
       "      <td>1</td>\n",
       "      <td>женат / замужем</td>\n",
       "      <td>0</td>\n",
       "      <td>M</td>\n",
       "      <td>сотрудник</td>\n",
       "      <td>0</td>\n",
       "      <td>145885</td>\n",
       "      <td>покупка жилья</td>\n",
       "      <td>недвижимость</td>\n",
       "      <td>бездетные</td>\n",
       "    </tr>\n",
       "    <tr>\n",
       "      <td>3</td>\n",
       "      <td>3</td>\n",
       "      <td>32</td>\n",
       "      <td>среднее</td>\n",
       "      <td>1</td>\n",
       "      <td>женат / замужем</td>\n",
       "      <td>0</td>\n",
       "      <td>M</td>\n",
       "      <td>сотрудник</td>\n",
       "      <td>0</td>\n",
       "      <td>267628</td>\n",
       "      <td>дополнительное образование</td>\n",
       "      <td>образование</td>\n",
       "      <td>многодетные</td>\n",
       "    </tr>\n",
       "    <tr>\n",
       "      <td>4</td>\n",
       "      <td>0</td>\n",
       "      <td>53</td>\n",
       "      <td>среднее</td>\n",
       "      <td>1</td>\n",
       "      <td>гражданский брак</td>\n",
       "      <td>1</td>\n",
       "      <td>F</td>\n",
       "      <td>пенсионер</td>\n",
       "      <td>0</td>\n",
       "      <td>158616</td>\n",
       "      <td>сыграть свадьбу</td>\n",
       "      <td>свадьба</td>\n",
       "      <td>бездетные</td>\n",
       "    </tr>\n",
       "    <tr>\n",
       "      <td>5</td>\n",
       "      <td>0</td>\n",
       "      <td>27</td>\n",
       "      <td>высшее</td>\n",
       "      <td>0</td>\n",
       "      <td>гражданский брак</td>\n",
       "      <td>1</td>\n",
       "      <td>M</td>\n",
       "      <td>компаньон</td>\n",
       "      <td>0</td>\n",
       "      <td>255763</td>\n",
       "      <td>покупка жилья</td>\n",
       "      <td>недвижимость</td>\n",
       "      <td>бездетные</td>\n",
       "    </tr>\n",
       "    <tr>\n",
       "      <td>6</td>\n",
       "      <td>0</td>\n",
       "      <td>43</td>\n",
       "      <td>высшее</td>\n",
       "      <td>0</td>\n",
       "      <td>женат / замужем</td>\n",
       "      <td>0</td>\n",
       "      <td>F</td>\n",
       "      <td>компаньон</td>\n",
       "      <td>0</td>\n",
       "      <td>240525</td>\n",
       "      <td>операции с жильем</td>\n",
       "      <td>недвижимость</td>\n",
       "      <td>бездетные</td>\n",
       "    </tr>\n",
       "    <tr>\n",
       "      <td>7</td>\n",
       "      <td>0</td>\n",
       "      <td>50</td>\n",
       "      <td>среднее</td>\n",
       "      <td>1</td>\n",
       "      <td>женат / замужем</td>\n",
       "      <td>0</td>\n",
       "      <td>M</td>\n",
       "      <td>сотрудник</td>\n",
       "      <td>0</td>\n",
       "      <td>135823</td>\n",
       "      <td>образование</td>\n",
       "      <td>образование</td>\n",
       "      <td>бездетные</td>\n",
       "    </tr>\n",
       "    <tr>\n",
       "      <td>8</td>\n",
       "      <td>2</td>\n",
       "      <td>35</td>\n",
       "      <td>высшее</td>\n",
       "      <td>0</td>\n",
       "      <td>гражданский брак</td>\n",
       "      <td>1</td>\n",
       "      <td>F</td>\n",
       "      <td>сотрудник</td>\n",
       "      <td>0</td>\n",
       "      <td>95856</td>\n",
       "      <td>на проведение свадьбы</td>\n",
       "      <td>свадьба</td>\n",
       "      <td>среднедетные</td>\n",
       "    </tr>\n",
       "    <tr>\n",
       "      <td>9</td>\n",
       "      <td>0</td>\n",
       "      <td>41</td>\n",
       "      <td>среднее</td>\n",
       "      <td>1</td>\n",
       "      <td>женат / замужем</td>\n",
       "      <td>0</td>\n",
       "      <td>M</td>\n",
       "      <td>сотрудник</td>\n",
       "      <td>0</td>\n",
       "      <td>144425</td>\n",
       "      <td>покупка жилья для семьи</td>\n",
       "      <td>недвижимость</td>\n",
       "      <td>бездетные</td>\n",
       "    </tr>\n",
       "  </tbody>\n",
       "</table>\n",
       "</div>"
      ],
      "text/plain": [
       "   children  dob_years education  education_id     family_status  \\\n",
       "0         1         42    высшее             0   женат / замужем   \n",
       "1         1         36   среднее             1   женат / замужем   \n",
       "2         0         33   среднее             1   женат / замужем   \n",
       "3         3         32   среднее             1   женат / замужем   \n",
       "4         0         53   среднее             1  гражданский брак   \n",
       "5         0         27    высшее             0  гражданский брак   \n",
       "6         0         43    высшее             0   женат / замужем   \n",
       "7         0         50   среднее             1   женат / замужем   \n",
       "8         2         35    высшее             0  гражданский брак   \n",
       "9         0         41   среднее             1   женат / замужем   \n",
       "\n",
       "   family_status_id gender income_type  debt  total_income  \\\n",
       "0                 0      F   сотрудник     0        253875   \n",
       "1                 0      F   сотрудник     0        112080   \n",
       "2                 0      M   сотрудник     0        145885   \n",
       "3                 0      M   сотрудник     0        267628   \n",
       "4                 1      F   пенсионер     0        158616   \n",
       "5                 1      M   компаньон     0        255763   \n",
       "6                 0      F   компаньон     0        240525   \n",
       "7                 0      M   сотрудник     0        135823   \n",
       "8                 1      F   сотрудник     0         95856   \n",
       "9                 0      M   сотрудник     0        144425   \n",
       "\n",
       "                      purpose strict_purpose children_categories  \n",
       "0               покупка жилья   недвижимость        среднедетные  \n",
       "1     приобретение автомобиля     автомобиль        среднедетные  \n",
       "2               покупка жилья   недвижимость           бездетные  \n",
       "3  дополнительное образование    образование         многодетные  \n",
       "4             сыграть свадьбу        свадьба           бездетные  \n",
       "5               покупка жилья   недвижимость           бездетные  \n",
       "6           операции с жильем   недвижимость           бездетные  \n",
       "7                 образование    образование           бездетные  \n",
       "8       на проведение свадьбы        свадьба        среднедетные  \n",
       "9     покупка жилья для семьи   недвижимость           бездетные  "
      ]
     },
     "execution_count": 34,
     "metadata": {},
     "output_type": "execute_result"
    }
   ],
   "source": [
    "def group_children(children):\n",
    "    if children == 0:\n",
    "        return 'бездетные'\n",
    "    if 1 <= children <= 2:\n",
    "        return 'среднедетные'\n",
    "    if children >= 3:\n",
    "        return 'многодетные'\n",
    "\n",
    "client_debts['children'] = client_debts['children'].apply(lambda x: abs(x))\n",
    "client_debts['children_categories'] = client_debts['children'].apply(group_children)\n",
    "client_debts.head(10)"
   ]
  },
  {
   "cell_type": "markdown",
   "metadata": {},
   "source": [
    "Посмотрим как распределяется уровень дохода, на основании этого выделим группы с невысоким, средним и высоким доходом:"
   ]
  },
  {
   "cell_type": "code",
   "execution_count": 35,
   "metadata": {
    "scrolled": true
   },
   "outputs": [
    {
     "data": {
      "text/plain": [
       "count      21454\n",
       "mean      165319\n",
       "std        98187\n",
       "min        20667\n",
       "25%       107623\n",
       "50%       142594\n",
       "75%       195820\n",
       "max      2265604\n",
       "Name: total_income, dtype: int64"
      ]
     },
     "execution_count": 35,
     "metadata": {},
     "output_type": "execute_result"
    }
   ],
   "source": [
    "client_debts['total_income'].describe().astype('int')"
   ]
  },
  {
   "cell_type": "code",
   "execution_count": 36,
   "metadata": {},
   "outputs": [
    {
     "data": {
      "text/plain": [
       "высокий доход      8006\n",
       "маленький доход    7231\n",
       "средний доход      6217\n",
       "Name: income_categories, dtype: int64"
      ]
     },
     "execution_count": 36,
     "metadata": {},
     "output_type": "execute_result"
    }
   ],
   "source": [
    "def group_income(income):\n",
    "    if income <= 120000:\n",
    "        return 'маленький доход'\n",
    "    if 120001 <= income <= 167000:\n",
    "        return 'средний доход'\n",
    "    if income >= 167001:\n",
    "        return 'высокий доход'\n",
    "\n",
    "client_debts['income_categories'] = client_debts['total_income'].apply(group_income)\n",
    "client_debts['income_categories'].value_counts()"
   ]
  },
  {
   "cell_type": "markdown",
   "metadata": {},
   "source": [
    "---\n",
    "## Комментарий от наставника\n",
    "\n",
    "Здорово, разбиение столбца по квантилям выглядит наиболее подходящим. Группы получились примерно одинакового размера, что важно при получении результатов.\n",
    "\n",
    "-----"
   ]
  },
  {
   "cell_type": "markdown",
   "metadata": {},
   "source": [
    "### Вывод"
   ]
  },
  {
   "cell_type": "markdown",
   "metadata": {},
   "source": [
    "Для дальнейшего исследования зависимостей необходимо было выделить оставшиеся группы: по количеству детей и доходу. Группы по доходу имеют относительно равномерное распределение, как минимум потому, что часть недостающих данных мы заполнянли медианными значениями, посмотрим, как это скажется на выявление зависимостей"
   ]
  },
  {
   "cell_type": "markdown",
   "metadata": {},
   "source": [
    "### Шаг 3. Ответьте на вопросы"
   ]
  },
  {
   "cell_type": "code",
   "execution_count": 37,
   "metadata": {},
   "outputs": [
    {
     "data": {
      "text/plain": [
       "0    19713\n",
       "1     1741\n",
       "Name: debt, dtype: int64"
      ]
     },
     "execution_count": 37,
     "metadata": {},
     "output_type": "execute_result"
    }
   ],
   "source": [
    "client_debts['debt'].value_counts()"
   ]
  },
  {
   "cell_type": "markdown",
   "metadata": {},
   "source": [
    "Для начала можно заметить, что в представленных данных возврата кредита в срок гораздо больше, чем просрочки.  Исходя из таблицы можно сделать грубое допущение, что только 8.8% (1741/19784) клиентов банка не вернут деньги в срок. Возможно, имеет смысл брать не всю группу целиком, а именно должников, иначе можно прийти к выводу, что какое бы семейное положение ни было у клиентов, они возвращают кредиты в основном вовремя. Возможо, клиенты банка в основном берут кредит впервые и по ним еще не закрепилось кредитной истории.\n",
    "\n",
    "Для исследования посмотрим на два среза: доля долга группы в общем количестве должников и доля долга группы в общем количестве записей группы."
   ]
  },
  {
   "cell_type": "code",
   "execution_count": 38,
   "metadata": {},
   "outputs": [
    {
     "data": {
      "text/html": [
       "<div>\n",
       "<style scoped>\n",
       "    .dataframe tbody tr th:only-of-type {\n",
       "        vertical-align: middle;\n",
       "    }\n",
       "\n",
       "    .dataframe tbody tr th {\n",
       "        vertical-align: top;\n",
       "    }\n",
       "\n",
       "    .dataframe thead th {\n",
       "        text-align: right;\n",
       "    }\n",
       "</style>\n",
       "<table border=\"1\" class=\"dataframe\">\n",
       "  <thead>\n",
       "    <tr style=\"text-align: right;\">\n",
       "      <th></th>\n",
       "      <th>children</th>\n",
       "      <th>dob_years</th>\n",
       "      <th>education</th>\n",
       "      <th>education_id</th>\n",
       "      <th>family_status</th>\n",
       "      <th>family_status_id</th>\n",
       "      <th>gender</th>\n",
       "      <th>income_type</th>\n",
       "      <th>debt</th>\n",
       "      <th>total_income</th>\n",
       "      <th>purpose</th>\n",
       "      <th>strict_purpose</th>\n",
       "      <th>children_categories</th>\n",
       "      <th>income_categories</th>\n",
       "    </tr>\n",
       "  </thead>\n",
       "  <tbody>\n",
       "    <tr>\n",
       "      <td>14</td>\n",
       "      <td>0</td>\n",
       "      <td>56</td>\n",
       "      <td>высшее</td>\n",
       "      <td>0</td>\n",
       "      <td>гражданский брак</td>\n",
       "      <td>1</td>\n",
       "      <td>F</td>\n",
       "      <td>компаньон</td>\n",
       "      <td>1</td>\n",
       "      <td>165127</td>\n",
       "      <td>покупка жилой недвижимости</td>\n",
       "      <td>недвижимость</td>\n",
       "      <td>бездетные</td>\n",
       "      <td>средний доход</td>\n",
       "    </tr>\n",
       "    <tr>\n",
       "      <td>32</td>\n",
       "      <td>0</td>\n",
       "      <td>34</td>\n",
       "      <td>среднее</td>\n",
       "      <td>1</td>\n",
       "      <td>гражданский брак</td>\n",
       "      <td>1</td>\n",
       "      <td>F</td>\n",
       "      <td>сотрудник</td>\n",
       "      <td>1</td>\n",
       "      <td>139057</td>\n",
       "      <td>на проведение свадьбы</td>\n",
       "      <td>свадьба</td>\n",
       "      <td>бездетные</td>\n",
       "      <td>средний доход</td>\n",
       "    </tr>\n",
       "    <tr>\n",
       "      <td>38</td>\n",
       "      <td>0</td>\n",
       "      <td>25</td>\n",
       "      <td>высшее</td>\n",
       "      <td>0</td>\n",
       "      <td>не женат / не замужем</td>\n",
       "      <td>4</td>\n",
       "      <td>M</td>\n",
       "      <td>сотрудник</td>\n",
       "      <td>1</td>\n",
       "      <td>192247</td>\n",
       "      <td>образование</td>\n",
       "      <td>образование</td>\n",
       "      <td>бездетные</td>\n",
       "      <td>высокий доход</td>\n",
       "    </tr>\n",
       "    <tr>\n",
       "      <td>55</td>\n",
       "      <td>0</td>\n",
       "      <td>54</td>\n",
       "      <td>среднее</td>\n",
       "      <td>1</td>\n",
       "      <td>гражданский брак</td>\n",
       "      <td>1</td>\n",
       "      <td>F</td>\n",
       "      <td>пенсионер</td>\n",
       "      <td>1</td>\n",
       "      <td>118514</td>\n",
       "      <td>сыграть свадьбу</td>\n",
       "      <td>свадьба</td>\n",
       "      <td>бездетные</td>\n",
       "      <td>маленький доход</td>\n",
       "    </tr>\n",
       "    <tr>\n",
       "      <td>75</td>\n",
       "      <td>1</td>\n",
       "      <td>38</td>\n",
       "      <td>среднее</td>\n",
       "      <td>1</td>\n",
       "      <td>женат / замужем</td>\n",
       "      <td>0</td>\n",
       "      <td>M</td>\n",
       "      <td>сотрудник</td>\n",
       "      <td>1</td>\n",
       "      <td>81935</td>\n",
       "      <td>операции с недвижимостью</td>\n",
       "      <td>недвижимость</td>\n",
       "      <td>среднедетные</td>\n",
       "      <td>маленький доход</td>\n",
       "    </tr>\n",
       "  </tbody>\n",
       "</table>\n",
       "</div>"
      ],
      "text/plain": [
       "    children  dob_years education  education_id          family_status  \\\n",
       "14         0         56    высшее             0       гражданский брак   \n",
       "32         0         34   среднее             1       гражданский брак   \n",
       "38         0         25    высшее             0  не женат / не замужем   \n",
       "55         0         54   среднее             1       гражданский брак   \n",
       "75         1         38   среднее             1        женат / замужем   \n",
       "\n",
       "    family_status_id gender income_type  debt  total_income  \\\n",
       "14                 1      F   компаньон     1        165127   \n",
       "32                 1      F   сотрудник     1        139057   \n",
       "38                 4      M   сотрудник     1        192247   \n",
       "55                 1      F   пенсионер     1        118514   \n",
       "75                 0      M   сотрудник     1         81935   \n",
       "\n",
       "                       purpose strict_purpose children_categories  \\\n",
       "14  покупка жилой недвижимости   недвижимость           бездетные   \n",
       "32       на проведение свадьбы        свадьба           бездетные   \n",
       "38                 образование    образование           бездетные   \n",
       "55             сыграть свадьбу        свадьба           бездетные   \n",
       "75    операции с недвижимостью   недвижимость        среднедетные   \n",
       "\n",
       "   income_categories  \n",
       "14     средний доход  \n",
       "32     средний доход  \n",
       "38     высокий доход  \n",
       "55   маленький доход  \n",
       "75   маленький доход  "
      ]
     },
     "execution_count": 38,
     "metadata": {},
     "output_type": "execute_result"
    }
   ],
   "source": [
    "only_with_debt = client_debts[client_debts['debt'] == 1]\n",
    "only_with_debt.head()"
   ]
  },
  {
   "cell_type": "markdown",
   "metadata": {},
   "source": [
    "Напишем впомогательные функции для сведения таблиц.  \n",
    "`count_debt_only` -- количество записей только с долгом  \n",
    "`ratio_debt_only` -- соотношение суммы долга категории к общему количеству записей долгов  \n",
    "`count_all` -- все записи категории  \n",
    "`ratio_all_incategory` -- соотношение суммы долга к всем записям категории, поможет узнать, какая подгруппа в категории наиболее надежна  \n",
    "`ratio_all_totable` -- соотношение суммы долга к количеству записей во всей таблице\n",
    "`merge_all` -- объединяющая таблица отношение в группе должников и отношение во всей таблице"
   ]
  },
  {
   "cell_type": "code",
   "execution_count": 39,
   "metadata": {},
   "outputs": [],
   "source": [
    "debt_count = len(only_with_debt)\n",
    "\n",
    "# возвращает общее число просроченной задолженности\n",
    "# представлено в виде функции, чтобы поставить в agg()\n",
    "def count_debt_only(series):\n",
    "    return debt_count\n",
    "\n",
    "def ratio_debt_only(series):\n",
    "    return \"{0:.3%}\".format(series.sum()/debt_count)\n",
    "\n",
    "def count_all(series):\n",
    "    return series.count()\n",
    "\n",
    "def ratio_all_totable(series):\n",
    "    return \"{0:.3%}\".format(series.sum()/len(client_debts))\n",
    "\n",
    "def ratio_all_incategory(series):\n",
    "    return \"{0:.3%}\".format(series.sum()/series.count())\n",
    "\n",
    "# вспомогательная функция для конструирования объединенной таблицы по срезу просроченных\n",
    "# кредитов с праметрами, расчитанными по всей таблице\n",
    "def merge_all(group):\n",
    "    right = only_with_debt.groupby(group).agg({'debt': ['sum', count_debt_only, ratio_debt_only]})\n",
    "    left = client_debts.groupby(group).agg({'debt': [count_all, ratio_all_incategory, ratio_all_totable]})\n",
    "    return right.merge(left, on=group, how='left') \n",
    "\n"
   ]
  },
  {
   "cell_type": "markdown",
   "metadata": {},
   "source": [
    "- Есть ли зависимость между наличием детей и возвратом кредита в срок?"
   ]
  },
  {
   "cell_type": "code",
   "execution_count": 40,
   "metadata": {},
   "outputs": [
    {
     "data": {
      "text/html": [
       "<div>\n",
       "<style scoped>\n",
       "    .dataframe tbody tr th:only-of-type {\n",
       "        vertical-align: middle;\n",
       "    }\n",
       "\n",
       "    .dataframe tbody tr th {\n",
       "        vertical-align: top;\n",
       "    }\n",
       "\n",
       "    .dataframe thead tr th {\n",
       "        text-align: left;\n",
       "    }\n",
       "\n",
       "    .dataframe thead tr:last-of-type th {\n",
       "        text-align: right;\n",
       "    }\n",
       "</style>\n",
       "<table border=\"1\" class=\"dataframe\">\n",
       "  <thead>\n",
       "    <tr>\n",
       "      <th></th>\n",
       "      <th colspan=\"6\" halign=\"left\">debt</th>\n",
       "    </tr>\n",
       "    <tr>\n",
       "      <th></th>\n",
       "      <th>sum</th>\n",
       "      <th>count_debt_only</th>\n",
       "      <th>ratio_debt_only</th>\n",
       "      <th>count_all</th>\n",
       "      <th>ratio_all_incategory</th>\n",
       "      <th>ratio_all_totable</th>\n",
       "    </tr>\n",
       "    <tr>\n",
       "      <th>children_categories</th>\n",
       "      <th></th>\n",
       "      <th></th>\n",
       "      <th></th>\n",
       "      <th></th>\n",
       "      <th></th>\n",
       "      <th></th>\n",
       "    </tr>\n",
       "  </thead>\n",
       "  <tbody>\n",
       "    <tr>\n",
       "      <td>бездетные</td>\n",
       "      <td>1063</td>\n",
       "      <td>1741</td>\n",
       "      <td>61.057%</td>\n",
       "      <td>14091</td>\n",
       "      <td>7.544%</td>\n",
       "      <td>4.955%</td>\n",
       "    </tr>\n",
       "    <tr>\n",
       "      <td>многодетные</td>\n",
       "      <td>39</td>\n",
       "      <td>1741</td>\n",
       "      <td>2.240%</td>\n",
       "      <td>456</td>\n",
       "      <td>8.553%</td>\n",
       "      <td>0.182%</td>\n",
       "    </tr>\n",
       "    <tr>\n",
       "      <td>среднедетные</td>\n",
       "      <td>639</td>\n",
       "      <td>1741</td>\n",
       "      <td>36.703%</td>\n",
       "      <td>6907</td>\n",
       "      <td>9.251%</td>\n",
       "      <td>2.978%</td>\n",
       "    </tr>\n",
       "  </tbody>\n",
       "</table>\n",
       "</div>"
      ],
      "text/plain": [
       "                     debt                                            \\\n",
       "                      sum count_debt_only ratio_debt_only count_all   \n",
       "children_categories                                                   \n",
       "бездетные            1063            1741         61.057%     14091   \n",
       "многодетные            39            1741          2.240%       456   \n",
       "среднедетные          639            1741         36.703%      6907   \n",
       "\n",
       "                                                            \n",
       "                    ratio_all_incategory ratio_all_totable  \n",
       "children_categories                                         \n",
       "бездетные                         7.544%            4.955%  \n",
       "многодетные                       8.553%            0.182%  \n",
       "среднедетные                      9.251%            2.978%  "
      ]
     },
     "execution_count": 40,
     "metadata": {},
     "output_type": "execute_result"
    }
   ],
   "source": [
    "merge_all('children_categories')"
   ]
  },
  {
   "cell_type": "markdown",
   "metadata": {},
   "source": [
    "### Вывод"
   ]
  },
  {
   "cell_type": "markdown",
   "metadata": {},
   "source": [
    "В основной массе должников по семейному положению лидируют бездетные семьи, хотя в рамках своей категории, они меньше многотеных и среднедетных обладают просроченным кредитом. Разброс в данной группе очень большой, поэтому сложно сделать вывод о виянии количества детей на вероятность возврата кредита в срок."
   ]
  },
  {
   "cell_type": "markdown",
   "metadata": {},
   "source": [
    "- Есть ли зависимость между семейным положением и возвратом кредита в срок?"
   ]
  },
  {
   "cell_type": "code",
   "execution_count": 41,
   "metadata": {},
   "outputs": [
    {
     "data": {
      "text/html": [
       "<div>\n",
       "<style scoped>\n",
       "    .dataframe tbody tr th:only-of-type {\n",
       "        vertical-align: middle;\n",
       "    }\n",
       "\n",
       "    .dataframe tbody tr th {\n",
       "        vertical-align: top;\n",
       "    }\n",
       "\n",
       "    .dataframe thead tr th {\n",
       "        text-align: left;\n",
       "    }\n",
       "\n",
       "    .dataframe thead tr:last-of-type th {\n",
       "        text-align: right;\n",
       "    }\n",
       "</style>\n",
       "<table border=\"1\" class=\"dataframe\">\n",
       "  <thead>\n",
       "    <tr>\n",
       "      <th></th>\n",
       "      <th colspan=\"6\" halign=\"left\">debt</th>\n",
       "    </tr>\n",
       "    <tr>\n",
       "      <th></th>\n",
       "      <th>sum</th>\n",
       "      <th>count_debt_only</th>\n",
       "      <th>ratio_debt_only</th>\n",
       "      <th>count_all</th>\n",
       "      <th>ratio_all_incategory</th>\n",
       "      <th>ratio_all_totable</th>\n",
       "    </tr>\n",
       "    <tr>\n",
       "      <th>family_status</th>\n",
       "      <th></th>\n",
       "      <th></th>\n",
       "      <th></th>\n",
       "      <th></th>\n",
       "      <th></th>\n",
       "      <th></th>\n",
       "    </tr>\n",
       "  </thead>\n",
       "  <tbody>\n",
       "    <tr>\n",
       "      <td>в разводе</td>\n",
       "      <td>85</td>\n",
       "      <td>1741</td>\n",
       "      <td>4.882%</td>\n",
       "      <td>1195</td>\n",
       "      <td>7.113%</td>\n",
       "      <td>0.396%</td>\n",
       "    </tr>\n",
       "    <tr>\n",
       "      <td>вдовец / вдова</td>\n",
       "      <td>63</td>\n",
       "      <td>1741</td>\n",
       "      <td>3.619%</td>\n",
       "      <td>959</td>\n",
       "      <td>6.569%</td>\n",
       "      <td>0.294%</td>\n",
       "    </tr>\n",
       "    <tr>\n",
       "      <td>гражданский брак</td>\n",
       "      <td>388</td>\n",
       "      <td>1741</td>\n",
       "      <td>22.286%</td>\n",
       "      <td>4151</td>\n",
       "      <td>9.347%</td>\n",
       "      <td>1.809%</td>\n",
       "    </tr>\n",
       "    <tr>\n",
       "      <td>женат / замужем</td>\n",
       "      <td>931</td>\n",
       "      <td>1741</td>\n",
       "      <td>53.475%</td>\n",
       "      <td>12339</td>\n",
       "      <td>7.545%</td>\n",
       "      <td>4.340%</td>\n",
       "    </tr>\n",
       "    <tr>\n",
       "      <td>не женат / не замужем</td>\n",
       "      <td>274</td>\n",
       "      <td>1741</td>\n",
       "      <td>15.738%</td>\n",
       "      <td>2810</td>\n",
       "      <td>9.751%</td>\n",
       "      <td>1.277%</td>\n",
       "    </tr>\n",
       "  </tbody>\n",
       "</table>\n",
       "</div>"
      ],
      "text/plain": [
       "                      debt                                            \\\n",
       "                       sum count_debt_only ratio_debt_only count_all   \n",
       "family_status                                                          \n",
       "в разводе               85            1741          4.882%      1195   \n",
       "вдовец / вдова          63            1741          3.619%       959   \n",
       "гражданский брак       388            1741         22.286%      4151   \n",
       "женат / замужем        931            1741         53.475%     12339   \n",
       "не женат / не замужем  274            1741         15.738%      2810   \n",
       "\n",
       "                                                              \n",
       "                      ratio_all_incategory ratio_all_totable  \n",
       "family_status                                                 \n",
       "в разводе                           7.113%            0.396%  \n",
       "вдовец / вдова                      6.569%            0.294%  \n",
       "гражданский брак                    9.347%            1.809%  \n",
       "женат / замужем                     7.545%            4.340%  \n",
       "не женат / не замужем               9.751%            1.277%  "
      ]
     },
     "execution_count": 41,
     "metadata": {},
     "output_type": "execute_result"
    }
   ],
   "source": [
    "merge_all('family_status')"
   ]
  },
  {
   "cell_type": "code",
   "execution_count": 42,
   "metadata": {},
   "outputs": [
    {
     "data": {
      "text/html": [
       "<div>\n",
       "<style scoped>\n",
       "    .dataframe tbody tr th:only-of-type {\n",
       "        vertical-align: middle;\n",
       "    }\n",
       "\n",
       "    .dataframe tbody tr th {\n",
       "        vertical-align: top;\n",
       "    }\n",
       "\n",
       "    .dataframe thead tr th {\n",
       "        text-align: left;\n",
       "    }\n",
       "\n",
       "    .dataframe thead tr:last-of-type th {\n",
       "        text-align: right;\n",
       "    }\n",
       "</style>\n",
       "<table border=\"1\" class=\"dataframe\">\n",
       "  <thead>\n",
       "    <tr>\n",
       "      <th></th>\n",
       "      <th>sum</th>\n",
       "      <th>count_debt_only</th>\n",
       "      <th>ratio_debt_only</th>\n",
       "      <th>count</th>\n",
       "      <th>ratio_all_incategory</th>\n",
       "      <th>ratio_all_totable</th>\n",
       "    </tr>\n",
       "    <tr>\n",
       "      <th></th>\n",
       "      <th>debt</th>\n",
       "      <th>debt</th>\n",
       "      <th>debt</th>\n",
       "      <th>debt</th>\n",
       "      <th>debt</th>\n",
       "      <th>debt</th>\n",
       "    </tr>\n",
       "    <tr>\n",
       "      <th>family_status</th>\n",
       "      <th></th>\n",
       "      <th></th>\n",
       "      <th></th>\n",
       "      <th></th>\n",
       "      <th></th>\n",
       "      <th></th>\n",
       "    </tr>\n",
       "  </thead>\n",
       "  <tbody>\n",
       "    <tr>\n",
       "      <td>в разводе</td>\n",
       "      <td>85</td>\n",
       "      <td>1741</td>\n",
       "      <td>4.882%</td>\n",
       "      <td>1195</td>\n",
       "      <td>7.113%</td>\n",
       "      <td>0.396%</td>\n",
       "    </tr>\n",
       "    <tr>\n",
       "      <td>вдовец / вдова</td>\n",
       "      <td>63</td>\n",
       "      <td>1741</td>\n",
       "      <td>3.619%</td>\n",
       "      <td>959</td>\n",
       "      <td>6.569%</td>\n",
       "      <td>0.294%</td>\n",
       "    </tr>\n",
       "    <tr>\n",
       "      <td>гражданский брак</td>\n",
       "      <td>388</td>\n",
       "      <td>1741</td>\n",
       "      <td>22.286%</td>\n",
       "      <td>4151</td>\n",
       "      <td>9.347%</td>\n",
       "      <td>1.809%</td>\n",
       "    </tr>\n",
       "    <tr>\n",
       "      <td>женат / замужем</td>\n",
       "      <td>931</td>\n",
       "      <td>1741</td>\n",
       "      <td>53.475%</td>\n",
       "      <td>12339</td>\n",
       "      <td>7.545%</td>\n",
       "      <td>4.340%</td>\n",
       "    </tr>\n",
       "    <tr>\n",
       "      <td>не женат / не замужем</td>\n",
       "      <td>274</td>\n",
       "      <td>1741</td>\n",
       "      <td>15.738%</td>\n",
       "      <td>2810</td>\n",
       "      <td>9.751%</td>\n",
       "      <td>1.277%</td>\n",
       "    </tr>\n",
       "  </tbody>\n",
       "</table>\n",
       "</div>"
      ],
      "text/plain": [
       "                       sum count_debt_only ratio_debt_only  count  \\\n",
       "                      debt            debt            debt   debt   \n",
       "family_status                                                       \n",
       "в разводе               85            1741          4.882%   1195   \n",
       "вдовец / вдова          63            1741          3.619%    959   \n",
       "гражданский брак       388            1741         22.286%   4151   \n",
       "женат / замужем        931            1741         53.475%  12339   \n",
       "не женат / не замужем  274            1741         15.738%   2810   \n",
       "\n",
       "                      ratio_all_incategory ratio_all_totable  \n",
       "                                      debt              debt  \n",
       "family_status                                                 \n",
       "в разводе                           7.113%            0.396%  \n",
       "вдовец / вдова                      6.569%            0.294%  \n",
       "гражданский брак                    9.347%            1.809%  \n",
       "женат / замужем                     7.545%            4.340%  \n",
       "не женат / не замужем               9.751%            1.277%  "
      ]
     },
     "execution_count": 42,
     "metadata": {},
     "output_type": "execute_result"
    }
   ],
   "source": [
    "client_debts.pivot_table(index=['family_status'],\n",
    "               values='debt',\n",
    "               aggfunc=['sum', count_debt_only, ratio_debt_only, \n",
    "                        'count', ratio_all_incategory, ratio_all_totable])"
   ]
  },
  {
   "cell_type": "markdown",
   "metadata": {},
   "source": [
    "### Вывод"
   ]
  },
  {
   "cell_type": "markdown",
   "metadata": {},
   "source": [
    "В должниках лидируют люди в браке, но и это самая большая группа в категории семейное положение, ну и кроме всего прочего, она еще и самая распространенная. При этом если взглянуть на динамику внутри каждой группы, увидим, что чаще всех не возвращают кредит (9.740%) люди в категории не женат / не замужем. \n",
    "Подгруппы \"в разводе\" и \"вдовец / вдова\" представлены значительно меньше других. Заисимость от этитих подгрупп мы посчитать не сможем. "
   ]
  },
  {
   "cell_type": "markdown",
   "metadata": {},
   "source": [
    "- Есть ли зависимость между уровнем дохода и возвратом кредита в срок?"
   ]
  },
  {
   "cell_type": "code",
   "execution_count": 43,
   "metadata": {},
   "outputs": [
    {
     "data": {
      "text/html": [
       "<div>\n",
       "<style scoped>\n",
       "    .dataframe tbody tr th:only-of-type {\n",
       "        vertical-align: middle;\n",
       "    }\n",
       "\n",
       "    .dataframe tbody tr th {\n",
       "        vertical-align: top;\n",
       "    }\n",
       "\n",
       "    .dataframe thead tr th {\n",
       "        text-align: left;\n",
       "    }\n",
       "\n",
       "    .dataframe thead tr:last-of-type th {\n",
       "        text-align: right;\n",
       "    }\n",
       "</style>\n",
       "<table border=\"1\" class=\"dataframe\">\n",
       "  <thead>\n",
       "    <tr>\n",
       "      <th></th>\n",
       "      <th colspan=\"6\" halign=\"left\">debt</th>\n",
       "    </tr>\n",
       "    <tr>\n",
       "      <th></th>\n",
       "      <th>sum</th>\n",
       "      <th>count_debt_only</th>\n",
       "      <th>ratio_debt_only</th>\n",
       "      <th>count_all</th>\n",
       "      <th>ratio_all_incategory</th>\n",
       "      <th>ratio_all_totable</th>\n",
       "    </tr>\n",
       "    <tr>\n",
       "      <th>income_categories</th>\n",
       "      <th></th>\n",
       "      <th></th>\n",
       "      <th></th>\n",
       "      <th></th>\n",
       "      <th></th>\n",
       "      <th></th>\n",
       "    </tr>\n",
       "  </thead>\n",
       "  <tbody>\n",
       "    <tr>\n",
       "      <td>высокий доход</td>\n",
       "      <td>601</td>\n",
       "      <td>1741</td>\n",
       "      <td>34.520%</td>\n",
       "      <td>8006</td>\n",
       "      <td>7.507%</td>\n",
       "      <td>2.801%</td>\n",
       "    </tr>\n",
       "    <tr>\n",
       "      <td>маленький доход</td>\n",
       "      <td>586</td>\n",
       "      <td>1741</td>\n",
       "      <td>33.659%</td>\n",
       "      <td>7231</td>\n",
       "      <td>8.104%</td>\n",
       "      <td>2.731%</td>\n",
       "    </tr>\n",
       "    <tr>\n",
       "      <td>средний доход</td>\n",
       "      <td>554</td>\n",
       "      <td>1741</td>\n",
       "      <td>31.821%</td>\n",
       "      <td>6217</td>\n",
       "      <td>8.911%</td>\n",
       "      <td>2.582%</td>\n",
       "    </tr>\n",
       "  </tbody>\n",
       "</table>\n",
       "</div>"
      ],
      "text/plain": [
       "                  debt                                            \\\n",
       "                   sum count_debt_only ratio_debt_only count_all   \n",
       "income_categories                                                  \n",
       "высокий доход      601            1741         34.520%      8006   \n",
       "маленький доход    586            1741         33.659%      7231   \n",
       "средний доход      554            1741         31.821%      6217   \n",
       "\n",
       "                                                          \n",
       "                  ratio_all_incategory ratio_all_totable  \n",
       "income_categories                                         \n",
       "высокий доход                   7.507%            2.801%  \n",
       "маленький доход                 8.104%            2.731%  \n",
       "средний доход                   8.911%            2.582%  "
      ]
     },
     "execution_count": 43,
     "metadata": {},
     "output_type": "execute_result"
    }
   ],
   "source": [
    "merge_all('income_categories')"
   ]
  },
  {
   "cell_type": "markdown",
   "metadata": {},
   "source": [
    "### Вывод"
   ]
  },
  {
   "cell_type": "markdown",
   "metadata": {},
   "source": [
    "Разбиение в доходе по группам сложилось относительно равномерно, поэтому здесь сложно выделить какую-то тенденцию в той или иной группе."
   ]
  },
  {
   "cell_type": "markdown",
   "metadata": {},
   "source": [
    "- Как разные цели кредита влияют на его возврат в срок?"
   ]
  },
  {
   "cell_type": "code",
   "execution_count": 44,
   "metadata": {},
   "outputs": [
    {
     "data": {
      "text/html": [
       "<div>\n",
       "<style scoped>\n",
       "    .dataframe tbody tr th:only-of-type {\n",
       "        vertical-align: middle;\n",
       "    }\n",
       "\n",
       "    .dataframe tbody tr th {\n",
       "        vertical-align: top;\n",
       "    }\n",
       "\n",
       "    .dataframe thead tr th {\n",
       "        text-align: left;\n",
       "    }\n",
       "\n",
       "    .dataframe thead tr:last-of-type th {\n",
       "        text-align: right;\n",
       "    }\n",
       "</style>\n",
       "<table border=\"1\" class=\"dataframe\">\n",
       "  <thead>\n",
       "    <tr>\n",
       "      <th></th>\n",
       "      <th>sum</th>\n",
       "      <th>count_debt_only</th>\n",
       "      <th>ratio_debt_only</th>\n",
       "      <th>count</th>\n",
       "      <th>ratio_all_incategory</th>\n",
       "      <th>ratio_all_totable</th>\n",
       "    </tr>\n",
       "    <tr>\n",
       "      <th></th>\n",
       "      <th>debt</th>\n",
       "      <th>debt</th>\n",
       "      <th>debt</th>\n",
       "      <th>debt</th>\n",
       "      <th>debt</th>\n",
       "      <th>debt</th>\n",
       "    </tr>\n",
       "    <tr>\n",
       "      <th>strict_purpose</th>\n",
       "      <th></th>\n",
       "      <th></th>\n",
       "      <th></th>\n",
       "      <th></th>\n",
       "      <th></th>\n",
       "      <th></th>\n",
       "    </tr>\n",
       "  </thead>\n",
       "  <tbody>\n",
       "    <tr>\n",
       "      <td>автомобиль</td>\n",
       "      <td>403</td>\n",
       "      <td>1741</td>\n",
       "      <td>23.148%</td>\n",
       "      <td>4306</td>\n",
       "      <td>9.359%</td>\n",
       "      <td>1.878%</td>\n",
       "    </tr>\n",
       "    <tr>\n",
       "      <td>недвижимость</td>\n",
       "      <td>782</td>\n",
       "      <td>1741</td>\n",
       "      <td>44.917%</td>\n",
       "      <td>10811</td>\n",
       "      <td>7.233%</td>\n",
       "      <td>3.645%</td>\n",
       "    </tr>\n",
       "    <tr>\n",
       "      <td>образование</td>\n",
       "      <td>370</td>\n",
       "      <td>1741</td>\n",
       "      <td>21.252%</td>\n",
       "      <td>4013</td>\n",
       "      <td>9.220%</td>\n",
       "      <td>1.725%</td>\n",
       "    </tr>\n",
       "    <tr>\n",
       "      <td>свадьба</td>\n",
       "      <td>186</td>\n",
       "      <td>1741</td>\n",
       "      <td>10.684%</td>\n",
       "      <td>2324</td>\n",
       "      <td>8.003%</td>\n",
       "      <td>0.867%</td>\n",
       "    </tr>\n",
       "  </tbody>\n",
       "</table>\n",
       "</div>"
      ],
      "text/plain": [
       "                sum count_debt_only ratio_debt_only  count  \\\n",
       "               debt            debt            debt   debt   \n",
       "strict_purpose                                               \n",
       "автомобиль      403            1741         23.148%   4306   \n",
       "недвижимость    782            1741         44.917%  10811   \n",
       "образование     370            1741         21.252%   4013   \n",
       "свадьба         186            1741         10.684%   2324   \n",
       "\n",
       "               ratio_all_incategory ratio_all_totable  \n",
       "                               debt              debt  \n",
       "strict_purpose                                         \n",
       "автомобиль                   9.359%            1.878%  \n",
       "недвижимость                 7.233%            3.645%  \n",
       "образование                  9.220%            1.725%  \n",
       "свадьба                      8.003%            0.867%  "
      ]
     },
     "execution_count": 44,
     "metadata": {},
     "output_type": "execute_result"
    }
   ],
   "source": [
    "client_debts.pivot_table(index=['strict_purpose'],\n",
    "               values='debt',\n",
    "               aggfunc=['sum', count_debt_only, ratio_debt_only, \n",
    "                        'count', ratio_all_incategory, ratio_all_totable])\n"
   ]
  },
  {
   "cell_type": "markdown",
   "metadata": {},
   "source": [
    "<font color=blue> Очень хорошо, что изучен метод сводных таблиц. Он пригодится в дальнейших работах.\n",
    "    \n",
    "---"
   ]
  },
  {
   "cell_type": "markdown",
   "metadata": {},
   "source": [
    "Можно предположить, что среди людей, берущих кредит на образования может быть большое количество студентов -- вот кому трудо будет возвращать кредит:"
   ]
  },
  {
   "cell_type": "code",
   "execution_count": 45,
   "metadata": {},
   "outputs": [
    {
     "data": {
      "text/plain": [
       "сотрудник      2080\n",
       "компаньон       954\n",
       "пенсионер       721\n",
       "госслужащий     258\n",
       "Name: income_type, dtype: int64"
      ]
     },
     "execution_count": 45,
     "metadata": {},
     "output_type": "execute_result"
    }
   ],
   "source": [
    "education_table = client_debts[client_debts['strict_purpose'] == 'образование']\n",
    "education_table['income_type'].value_counts()\n"
   ]
  },
  {
   "cell_type": "markdown",
   "metadata": {},
   "source": [
    "Вовсе нет, в основном это люди, уже имеющие работу, которые видимо хотят сменить деятельность или повысить квалификацию.  \n",
    "Посмотрим так же на уровень дохода в группе, берущей кредит на автомобиль -- есть предположение, что это люди, обладающие средним и невысоким доходом.\n"
   ]
  },
  {
   "cell_type": "code",
   "execution_count": 46,
   "metadata": {},
   "outputs": [
    {
     "data": {
      "text/plain": [
       "высокий доход      1610\n",
       "маленький доход    1441\n",
       "средний доход      1255\n",
       "Name: income_categories, dtype: int64"
      ]
     },
     "execution_count": 46,
     "metadata": {},
     "output_type": "execute_result"
    }
   ],
   "source": [
    "client_debts[client_debts['strict_purpose'] == 'автомобиль']['income_categories'].value_counts()"
   ]
  },
  {
   "cell_type": "markdown",
   "metadata": {},
   "source": [
    "И тут ошибка -- оказывается люди в группе высокого дохода берут кредит на автомобили. "
   ]
  },
  {
   "cell_type": "markdown",
   "metadata": {},
   "source": [
    "### Вывод"
   ]
  },
  {
   "cell_type": "markdown",
   "metadata": {},
   "source": [
    "Недвижимость -- самая большая группа, в которой представлены как кредиты на жилую, так и на коммерческую недвижимость. Возможно здесь стоит обратить внимание на долю должников в рамках своей группы, можно заметить, что клиенты, взявшие кредит на образование и на автомобиль с большей вероятностью его просрочат."
   ]
  },
  {
   "cell_type": "markdown",
   "metadata": {},
   "source": [
    "---\n",
    "## Комментарий от наставника\n",
    "\n",
    "На этом этапе работы желательно использовать метод сводных таблиц (pivot_table) при получении результатов. В качестве дополнительного задания попробуй построить зависимости показателей на возврат кредита, используя метод сводных таблиц хотя бы для одного пункта данного шага. Применяй его в дальнейших работах. \n",
    "\n",
    "Выводы верные по всем пунктам.\n",
    "\n",
    "-----"
   ]
  },
  {
   "cell_type": "markdown",
   "metadata": {},
   "source": [
    "### Шаг 4. Общий вывод"
   ]
  },
  {
   "attachments": {
    "Screen%20Shot%202019-12-06%20at%2018.14.29.png": {
     "image/png": "[encoded data removed]"
    },
    "Screen%20Shot%202019-12-06%20at%2018.17.19.png": {
     "image/png": "[encoded data removed]"
    },
    "Screen%20Shot%202019-12-06%20at%2018.18.52.png": {
     "image/png": "[encoded data removed]"
    },
    "Screen%20Shot%202019-12-06%20at%2018.20.05.png": {
     "image/png": "[encoded data removed]"
    }
   },
   "cell_type": "markdown",
   "metadata": {},
   "source": [
    "В проведении исследования надежности заемщика мы предположили, что от такие факторы как количество детей, семейное положение, уровень дохода и цель кредита влияют на возврат кредита в срок.  \n",
    "\n",
    "Для этого нужно было посчитать каков внутри каждой категории процент должников, чтобы определить вероятность того, что клиент, принадлежащий определенной категории, не сможет выплатить кредит в срок. Далее, сравнивая вероятности быть должником каждой группы, стало возможным понять, какая из категорий более расположена к невыплате кредита в срок.  \n",
    "\n",
    "**Количество детей:**  \n",
    "В этой группе наблюдается наибольший разброс. Категория \"многодетные\" представлена лиш 456 записями. Можно сказать, что многодетные люди реже всего берут кредит. А бездетные клиенты являются более надежными заемщиками. Возможно это связано с тем, что для бездетных людей меньше риск непредвиденных расходов, связанных с детьми\n",
    "![Screen%20Shot%202019-12-06%20at%2018.14.29.png](attachment:Screen%20Shot%202019-12-06%20at%2018.14.29.png)\n",
    "\n",
    "**Семейное положение:**  \n",
    "Здесь опять наблюдается разброс заполненности групп. Среди групп имеющих наибольшее заполнение наиболее надежными заемщиками являются колиенты состоящие в браке, они с меньшей вероятностью просрочат кредит (7.520%), чем клиенты  в группе не женат/ не замужем (9.740%). Возможно, люди в браке более успешно мыслят в рамках долгосрочной перспективы.\n",
    "![Screen%20Shot%202019-12-06%20at%2018.17.19.png](attachment:Screen%20Shot%202019-12-06%20at%2018.17.19.png)\n",
    "\n",
    "**Уровень дохода:**  \n",
    "Здесь группы распределились наиболее равномерно. Среди более надежных заемщиков можно выделить людей с высоким доходом, у них вероятность вернуть кедит позже срока меньше других в группе - 7.500%. Выглядит вполне логично! Однако между клиентами с низким и средним доходом отдать предпочтение стоит первым.\n",
    "![Screen%20Shot%202019-12-06%20at%2018.18.52.png](attachment:Screen%20Shot%202019-12-06%20at%2018.18.52.png)\n",
    "\n",
    "**Цель кредита:**  \n",
    "Большую долю обращений за кредитами составлют операции с недвижимостью, коммерческои и некоммерческой. Однако люди, взявшие кредит на эти цели успешнее справляется с возвращением кредита в срок. У клиентов, взявших кредит на обучение и покупку автомобиля больше вероятность его просрочить. Возможно потому, что в первом случае людям приходится дйствительно учиться, остается меньше возможностей работать, меньше источников дохода.\n",
    "![Screen%20Shot%202019-12-06%20at%2018.20.05.png](attachment:Screen%20Shot%202019-12-06%20at%2018.20.05.png)\n",
    "\n",
    "Если все же попытаться оценить зависимости возвращения кредита в срок от тех или иных характеристик человека, наверное с учетом особенностей представленных данных стоит опираться на ни динамику возврата долга именно в самой группе. Так, среди подкатегорий наиболее надежными можно считать бездетных, взявших кредит на недвижимость и вдовцов."
   ]
  },
  {
   "cell_type": "markdown",
   "metadata": {},
   "source": [
    "<font color=blue> Да, здорово, теперь выводы - это маленький отчет о проделанной работе.\n",
    "    \n",
    "---"
   ]
  },
  {
   "cell_type": "markdown",
   "metadata": {},
   "source": [
    "---\n",
    "## Комментарий от наставника\n",
    "\n",
    "Выводы описаны слишком кратко. Надо расписывать их более подробно и объяснять представленные доводы. В выводах можно приводить полученные ранее значения. Желательно подробно расписать все, что было сделано и какими методами. Так ты лишний раз вспомнишь, что делает та или иная функция.\n",
    "\n",
    "---"
   ]
  },
  {
   "cell_type": "markdown",
   "metadata": {},
   "source": [
    "## Комментарий от наставника\n",
    "\n",
    "- Описывай данные, с которыми работаешь;\n",
    "- Выдвигай больше гипотез. Пытайся понять реальны они или нет и проверяй их на практике;\n",
    "- Удаляй дубликаты из данных. Они вызывают смещение результатов;\n",
    "- Хорошо бы оставлять комментарии в коде. Так и тебе, и другим людям будет понятно, что делает определенный кусок кода;\n",
    "- Изучи метод сводных таблиц и применяй его в дальнейших проектах.\n",
    "\n",
    "Ты проделал хорошую работу, молодец! Исправь небольшой недостаток и получится замечательная работа :)\n",
    "\n",
    "-----"
   ]
  },
  {
   "cell_type": "code",
   "execution_count": null,
   "metadata": {},
   "outputs": [],
   "source": []
  }
 ],
 "metadata": {
  "kernelspec": {
   "display_name": "Python 3",
   "language": "python",
   "name": "python3"
  },
  "language_info": {
   "codemirror_mode": {
    "name": "ipython",
    "version": 3
   },
   "file_extension": ".py",
   "mimetype": "text/x-python",
   "name": "python",
   "nbconvert_exporter": "python",
   "pygments_lexer": "ipython3",
   "version": "3.7.6"
  }
 },
 "nbformat": 4,
 "nbformat_minor": 2
}
